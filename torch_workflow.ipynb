{
 "cells": [
  {
   "cell_type": "code",
   "execution_count": 1,
   "metadata": {},
   "outputs": [
    {
     "name": "stderr",
     "output_type": "stream",
     "text": [
      "/home/mohammed/environments/pytorch/lib/python3.10/site-packages/tqdm/auto.py:22: TqdmWarning: IProgress not found. Please update jupyter and ipywidgets. See https://ipywidgets.readthedocs.io/en/stable/user_install.html\n",
      "  from .autonotebook import tqdm as notebook_tqdm\n"
     ]
    }
   ],
   "source": [
    "import torch\n",
    "import torch.nn as nn"
   ]
  },
  {
   "cell_type": "code",
   "execution_count": 2,
   "metadata": {},
   "outputs": [
    {
     "data": {
      "text/plain": [
       "(tensor([[0.0000],\n",
       "         [0.0200],\n",
       "         [0.0400],\n",
       "         [0.0600],\n",
       "         [0.0800],\n",
       "         [0.1000],\n",
       "         [0.1200],\n",
       "         [0.1400],\n",
       "         [0.1600],\n",
       "         [0.1800]]),\n",
       " tensor([[0.3000],\n",
       "         [0.3140],\n",
       "         [0.3280],\n",
       "         [0.3420],\n",
       "         [0.3560],\n",
       "         [0.3700],\n",
       "         [0.3840],\n",
       "         [0.3980],\n",
       "         [0.4120],\n",
       "         [0.4260]]))"
      ]
     },
     "execution_count": 2,
     "metadata": {},
     "output_type": "execute_result"
    }
   ],
   "source": [
    "weight = 0.7\n",
    "bias = 0.3\n",
    "\n",
    "\n",
    "start = 0\n",
    "end = 1\n",
    "step = 0.02\n",
    "X = torch.arange(start, end, step).unsqueeze(dim=1)\n",
    "Y = weight * X + bias\n",
    "X[:10], Y[:10]"
   ]
  },
  {
   "cell_type": "code",
   "execution_count": 3,
   "metadata": {},
   "outputs": [
    {
     "data": {
      "text/plain": [
       "(50, 50)"
      ]
     },
     "execution_count": 3,
     "metadata": {},
     "output_type": "execute_result"
    }
   ],
   "source": [
    "len(X), len(Y)"
   ]
  },
  {
   "attachments": {},
   "cell_type": "markdown",
   "metadata": {},
   "source": [
    "# spllitting Data into train and test"
   ]
  },
  {
   "cell_type": "code",
   "execution_count": 4,
   "metadata": {},
   "outputs": [
    {
     "data": {
      "text/plain": [
       "(40, 40, 10, 10)"
      ]
     },
     "execution_count": 4,
     "metadata": {},
     "output_type": "execute_result"
    }
   ],
   "source": [
    "train_split = int(0.8 * len(X))\n",
    "# x -> features\n",
    "# y -> labels\n",
    "x_train, y_train = X[:train_split],Y[:train_split]\n",
    "x_test , y_test = X[train_split:],Y[train_split:]\n",
    "\n",
    "len(x_train), len(y_train),len(x_test),len(y_test)"
   ]
  },
  {
   "cell_type": "code",
   "execution_count": 5,
   "metadata": {},
   "outputs": [
    {
     "data": {
      "text/plain": [
       "(tensor([[0.0000],\n",
       "         [0.0200],\n",
       "         [0.0400],\n",
       "         [0.0600],\n",
       "         [0.0800],\n",
       "         [0.1000],\n",
       "         [0.1200],\n",
       "         [0.1400],\n",
       "         [0.1600],\n",
       "         [0.1800]]),\n",
       " tensor([[0.3000],\n",
       "         [0.3140],\n",
       "         [0.3280],\n",
       "         [0.3420],\n",
       "         [0.3560],\n",
       "         [0.3700],\n",
       "         [0.3840],\n",
       "         [0.3980],\n",
       "         [0.4120],\n",
       "         [0.4260]]))"
      ]
     },
     "execution_count": 5,
     "metadata": {},
     "output_type": "execute_result"
    }
   ],
   "source": [
    "x_train[:10], y_train[:10]"
   ]
  },
  {
   "attachments": {},
   "cell_type": "markdown",
   "metadata": {},
   "source": [
    "# Visualizing using Matplotlib"
   ]
  },
  {
   "cell_type": "code",
   "execution_count": 6,
   "metadata": {},
   "outputs": [],
   "source": [
    "import matplotlib.pyplot as plt\n",
    "\n",
    "\n",
    "def plot_prediction(train_data = x_train,\n",
    "                    train_labels = y_train,\n",
    "                    test_data=x_test,\n",
    "                    test_labels=y_test,\n",
    "                    predictions=None):\n",
    "    \"\"\"\n",
    "    Plot training data, test data and compare predictions.\n",
    "    \"\"\"\n",
    "    plt.figure(figsize=(10,7))\n",
    "\n",
    "    # plot train data\n",
    "    plt.scatter(train_data, train_labels,c='b',s=4,label=\"Training Data\")\n",
    "\n",
    "    # plot test data\n",
    "    plt.scatter(test_data, test_labels,c='r',s=4, label=\"Testing data\")\n",
    "    \n",
    "    # checking for pred\n",
    "    if predictions is not None:\n",
    "        plt.scatter(test_data, predictions,c='g',s=4, label=\"Prediction\")\n",
    "\n",
    "    plt.legend(prop={\"size\":14})"
   ]
  },
  {
   "cell_type": "code",
   "execution_count": 7,
   "metadata": {},
   "outputs": [
    {
     "data": {
      "image/png": "[encoded data removed]",
      "text/plain": [
       "<Figure size 1000x700 with 1 Axes>"
      ]
     },
     "metadata": {},
     "output_type": "display_data"
    }
   ],
   "source": [
    "plot_prediction()"
   ]
  },
  {
   "attachments": {},
   "cell_type": "markdown",
   "metadata": {},
   "source": [
    "# Model Bulding"
   ]
  },
  {
   "cell_type": "code",
   "execution_count": 8,
   "metadata": {},
   "outputs": [],
   "source": [
    "# Linear Regression model class\n",
    "class LinearRegressionModel(nn.Module):\n",
    "    def __init__(self):\n",
    "        super().__init__()\n",
    "        self.weights = nn.Parameter(torch.randn(1, requires_grad=True,dtype=torch.float))\n",
    "\n",
    "        self.bias = nn.Parameter(torch.randn(1, requires_grad=True,dtype=torch.float))\n",
    "\n",
    "    def forward(self, x:torch.Tensor) -> torch.Tensor:\n",
    "            return self.weights * x + self.bias"
   ]
  },
  {
   "attachments": {},
   "cell_type": "markdown",
   "metadata": {},
   "source": [
    "# Checking content of pytorch model\n",
    "### check model parameters using `.parameters()`"
   ]
  },
  {
   "cell_type": "code",
   "execution_count": 9,
   "metadata": {},
   "outputs": [
    {
     "data": {
      "text/plain": [
       "[Parameter containing:\n",
       " tensor([0.3367], requires_grad=True),\n",
       " Parameter containing:\n",
       " tensor([0.1288], requires_grad=True)]"
      ]
     },
     "execution_count": 9,
     "metadata": {},
     "output_type": "execute_result"
    }
   ],
   "source": [
    "# For reproducibility manual seed\n",
    "torch.manual_seed(42)\n",
    "\n",
    "# Model instance\n",
    "model_0 = LinearRegressionModel()\n",
    "\n",
    "list(model_0.parameters())"
   ]
  },
  {
   "cell_type": "code",
   "execution_count": 10,
   "metadata": {},
   "outputs": [
    {
     "data": {
      "text/plain": [
       "OrderedDict([('weights', tensor([0.3367])), ('bias', tensor([0.1288]))])"
      ]
     },
     "execution_count": 10,
     "metadata": {},
     "output_type": "execute_result"
    }
   ],
   "source": [
    "# List named parameters\n",
    "model_0.state_dict()"
   ]
  },
  {
   "attachments": {},
   "cell_type": "markdown",
   "metadata": {},
   "source": [
    "# Making predictions using `torch.inference_mode()`\n",
    "#### Let's see how well it predicts `y_test`(test labels) with `x_test` (test data)"
   ]
  },
  {
   "cell_type": "code",
   "execution_count": 11,
   "metadata": {},
   "outputs": [
    {
     "data": {
      "text/plain": [
       "(tensor([[0.8000],\n",
       "         [0.8200],\n",
       "         [0.8400],\n",
       "         [0.8600],\n",
       "         [0.8800],\n",
       "         [0.9000],\n",
       "         [0.9200],\n",
       "         [0.9400],\n",
       "         [0.9600],\n",
       "         [0.9800]]),\n",
       " tensor([[0.8600],\n",
       "         [0.8740],\n",
       "         [0.8880],\n",
       "         [0.9020],\n",
       "         [0.9160],\n",
       "         [0.9300],\n",
       "         [0.9440],\n",
       "         [0.9580],\n",
       "         [0.9720],\n",
       "         [0.9860]]))"
      ]
     },
     "execution_count": 11,
     "metadata": {},
     "output_type": "execute_result"
    }
   ],
   "source": [
    "x_test, y_test"
   ]
  },
  {
   "cell_type": "code",
   "execution_count": 12,
   "metadata": {},
   "outputs": [
    {
     "data": {
      "text/plain": [
       "tensor([[0.3982],\n",
       "        [0.4049],\n",
       "        [0.4116],\n",
       "        [0.4184],\n",
       "        [0.4251],\n",
       "        [0.4318],\n",
       "        [0.4386],\n",
       "        [0.4453],\n",
       "        [0.4520],\n",
       "        [0.4588]])"
      ]
     },
     "execution_count": 12,
     "metadata": {},
     "output_type": "execute_result"
    }
   ],
   "source": [
    "# Making prediction\n",
    "with torch.inference_mode(): \n",
    "    y_preds = model_0(x_test)\n",
    "\n",
    "# with torch.no_grad(): \n",
    "#     y_preds = model_0(x_test)\n",
    "y_preds\n"
   ]
  },
  {
   "cell_type": "code",
   "execution_count": 13,
   "metadata": {},
   "outputs": [
    {
     "data": {
      "image/png": "[encoded data removed]",
      "text/plain": [
       "<Figure size 1000x700 with 1 Axes>"
      ]
     },
     "metadata": {},
     "output_type": "display_data"
    }
   ],
   "source": [
    "plot_prediction(predictions=y_preds)"
   ]
  },
  {
   "attachments": {},
   "cell_type": "markdown",
   "metadata": {},
   "source": [
    "# Training Model"
   ]
  },
  {
   "cell_type": "code",
   "execution_count": 14,
   "metadata": {},
   "outputs": [],
   "source": [
    "# Set up a loss function\n",
    "loss_fn = nn.L1Loss() # Mean Absolute Error\n",
    "\n",
    "# Set up an optimizer Stochastic Gradient Descent\n",
    "optimizer = torch.optim.SGD(params = model_0.parameters(),\n",
    "                            lr=0.001)\n"
   ]
  },
  {
   "attachments": {},
   "cell_type": "markdown",
   "metadata": {},
   "source": [
    "## Building train and test loop\n",
    "\n",
    "1. Looping through data\n",
    "2. Forward Pass\n",
    "3. Calculate the loss\n",
    "4. optimizer zero grad\n",
    "5. loss backward\n",
    "6. optimizer step"
   ]
  },
  {
   "cell_type": "code",
   "execution_count": 15,
   "metadata": {},
   "outputs": [
    {
     "data": {
      "text/plain": [
       "OrderedDict([('weights', tensor([0.3367])), ('bias', tensor([0.1288]))])"
      ]
     },
     "execution_count": 15,
     "metadata": {},
     "output_type": "execute_result"
    }
   ],
   "source": [
    "# Before the epoch see the params\n",
    "model_0.state_dict()"
   ]
  },
  {
   "cell_type": "code",
   "execution_count": 16,
   "metadata": {},
   "outputs": [
    {
     "name": "stdout",
     "output_type": "stream",
     "text": [
      "Epoch: 0 | Loss: 0.31288138031959534 | Test Loss: 0.4931890368461609 \n",
      "Epoch: 10 | Loss: 0.3013603389263153 | Test Loss: 0.4797181189060211 \n",
      "Epoch: 20 | Loss: 0.28983938694000244 | Test Loss: 0.4662471413612366 \n",
      "Epoch: 30 | Loss: 0.2783183455467224 | Test Loss: 0.4527761936187744 \n",
      "Epoch: 40 | Loss: 0.26679736375808716 | Test Loss: 0.43930521607398987 \n",
      "Epoch: 50 | Loss: 0.2552763819694519 | Test Loss: 0.4258342385292053 \n",
      "Epoch: 60 | Loss: 0.24375538527965546 | Test Loss: 0.41236335039138794 \n",
      "Epoch: 70 | Loss: 0.232234388589859 | Test Loss: 0.398892343044281 \n",
      "Epoch: 80 | Loss: 0.22071340680122375 | Test Loss: 0.38542139530181885 \n",
      "Epoch: 90 | Loss: 0.2091923952102661 | Test Loss: 0.3719504475593567 \n",
      "Epoch: 100 | Loss: 0.19767141342163086 | Test Loss: 0.35847947001457214 \n",
      "Epoch: 110 | Loss: 0.18615040183067322 | Test Loss: 0.34500852227211 \n",
      "Epoch: 120 | Loss: 0.17462942004203796 | Test Loss: 0.33153754472732544 \n",
      "Epoch: 130 | Loss: 0.16310855746269226 | Test Loss: 0.3180667459964752 \n",
      "Epoch: 140 | Loss: 0.15158770978450775 | Test Loss: 0.304595947265625 \n",
      "Epoch: 150 | Loss: 0.14006686210632324 | Test Loss: 0.2911251187324524 \n",
      "Epoch: 160 | Loss: 0.12854602932929993 | Test Loss: 0.2776543200016022 \n",
      "Epoch: 170 | Loss: 0.11702518165111542 | Test Loss: 0.26418352127075195 \n",
      "Epoch: 180 | Loss: 0.10654274374246597 | Test Loss: 0.251315176486969 \n",
      "Epoch: 190 | Loss: 0.09747617691755295 | Test Loss: 0.2392154484987259 \n",
      "Epoch: 200 | Loss: 0.08973254263401031 | Test Loss: 0.22795839607715607 \n",
      "Epoch: 210 | Loss: 0.08306284993886948 | Test Loss: 0.21740305423736572 \n",
      "Epoch: 220 | Loss: 0.07729282230138779 | Test Loss: 0.20750825107097626 \n",
      "Epoch: 230 | Loss: 0.07242877781391144 | Test Loss: 0.19840054214000702 \n",
      "Epoch: 240 | Loss: 0.06828799843788147 | Test Loss: 0.18992407619953156 \n",
      "Epoch: 250 | Loss: 0.06476505100727081 | Test Loss: 0.18208928406238556 \n",
      "Epoch: 260 | Loss: 0.06174134090542793 | Test Loss: 0.17478716373443604 \n",
      "Epoch: 270 | Loss: 0.05915876477956772 | Test Loss: 0.16802480816841125 \n",
      "Epoch: 280 | Loss: 0.0569603331387043 | Test Loss: 0.161748006939888 \n",
      "Epoch: 290 | Loss: 0.05514555424451828 | Test Loss: 0.15608695149421692 \n",
      "Epoch: 300 | Loss: 0.05357731133699417 | Test Loss: 0.15086300671100616 \n",
      "Epoch: 310 | Loss: 0.05218071490526199 | Test Loss: 0.14595307409763336 \n",
      "Epoch: 320 | Loss: 0.05105169489979744 | Test Loss: 0.1415499746799469 \n",
      "Epoch: 330 | Loss: 0.050030313432216644 | Test Loss: 0.1374681293964386 \n",
      "Epoch: 340 | Loss: 0.049160152673721313 | Test Loss: 0.13370750844478607 \n",
      "Epoch: 350 | Loss: 0.04836020991206169 | Test Loss: 0.13020753860473633 \n",
      "Epoch: 360 | Loss: 0.04769856110215187 | Test Loss: 0.12709848582744598 \n",
      "Epoch: 370 | Loss: 0.04703690856695175 | Test Loss: 0.12398938834667206 \n",
      "Epoch: 380 | Loss: 0.04650093987584114 | Test Loss: 0.12147434055805206 \n",
      "Epoch: 390 | Loss: 0.045996345579624176 | Test Loss: 0.11902527511119843 \n",
      "Epoch: 400 | Loss: 0.04549176245927811 | Test Loss: 0.11657620966434479 \n",
      "Epoch: 410 | Loss: 0.045014552772045135 | Test Loss: 0.11432783305644989 \n",
      "Epoch: 420 | Loss: 0.04461454600095749 | Test Loss: 0.11254779994487762 \n",
      "Epoch: 430 | Loss: 0.04421453922986984 | Test Loss: 0.11076776683330536 \n",
      "Epoch: 440 | Loss: 0.043814532458782196 | Test Loss: 0.1089877337217331 \n",
      "Epoch: 450 | Loss: 0.04341452196240425 | Test Loss: 0.10720770061016083 \n",
      "Epoch: 460 | Loss: 0.043014515191316605 | Test Loss: 0.10542766749858856 \n",
      "Epoch: 470 | Loss: 0.04265119880437851 | Test Loss: 0.10419009625911713 \n",
      "Epoch: 480 | Loss: 0.04230218380689621 | Test Loss: 0.1030881255865097 \n",
      "Epoch: 490 | Loss: 0.04195316880941391 | Test Loss: 0.10198615491390228 \n",
      "Epoch: 500 | Loss: 0.04160415381193161 | Test Loss: 0.10088418424129486 \n",
      "Epoch: 510 | Loss: 0.04125513881444931 | Test Loss: 0.09978221356868744 \n",
      "Epoch: 520 | Loss: 0.04090612381696701 | Test Loss: 0.09868024289608002 \n",
      "Epoch: 530 | Loss: 0.04055710881948471 | Test Loss: 0.0975782722234726 \n",
      "Epoch: 540 | Loss: 0.04020809382200241 | Test Loss: 0.09647630155086517 \n",
      "Epoch: 550 | Loss: 0.03985908254981041 | Test Loss: 0.09537436813116074 \n",
      "Epoch: 560 | Loss: 0.03951007127761841 | Test Loss: 0.09427239745855331 \n",
      "Epoch: 570 | Loss: 0.03916105255484581 | Test Loss: 0.09317042678594589 \n",
      "Epoch: 580 | Loss: 0.03881204128265381 | Test Loss: 0.09206845611333847 \n",
      "Epoch: 590 | Loss: 0.03846302255988121 | Test Loss: 0.09096648544073105 \n",
      "Epoch: 600 | Loss: 0.03811401128768921 | Test Loss: 0.08986451476812363 \n",
      "Epoch: 610 | Loss: 0.03776499256491661 | Test Loss: 0.0887625440955162 \n",
      "Epoch: 620 | Loss: 0.03741598129272461 | Test Loss: 0.08766057342290878 \n",
      "Epoch: 630 | Loss: 0.037067197263240814 | Test Loss: 0.08662726730108261 \n",
      "Epoch: 640 | Loss: 0.03672432154417038 | Test Loss: 0.08579986542463303 \n",
      "Epoch: 650 | Loss: 0.03638043254613876 | Test Loss: 0.08497253060340881 \n",
      "Epoch: 660 | Loss: 0.036036938428878784 | Test Loss: 0.08421380817890167 \n",
      "Epoch: 670 | Loss: 0.035693906247615814 | Test Loss: 0.08338643610477448 \n",
      "Epoch: 680 | Loss: 0.035350002348423004 | Test Loss: 0.08255907148122787 \n",
      "Epoch: 690 | Loss: 0.035006679594516754 | Test Loss: 0.08180035650730133 \n",
      "Epoch: 700 | Loss: 0.03466346859931946 | Test Loss: 0.08097299933433533 \n",
      "Epoch: 710 | Loss: 0.03431956097483635 | Test Loss: 0.08014564216136932 \n",
      "Epoch: 720 | Loss: 0.03397642448544502 | Test Loss: 0.07938691228628159 \n",
      "Epoch: 730 | Loss: 0.0336330309510231 | Test Loss: 0.07855955511331558 \n",
      "Epoch: 740 | Loss: 0.03328912332653999 | Test Loss: 0.07773219794034958 \n",
      "Epoch: 750 | Loss: 0.032946161925792694 | Test Loss: 0.07697348296642303 \n",
      "Epoch: 760 | Loss: 0.03260258957743645 | Test Loss: 0.07614611089229584 \n",
      "Epoch: 770 | Loss: 0.0322587676346302 | Test Loss: 0.07538740336894989 \n",
      "Epoch: 780 | Loss: 0.031915903091430664 | Test Loss: 0.07456003129482269 \n",
      "Epoch: 790 | Loss: 0.031572166830301285 | Test Loss: 0.07373266667127609 \n",
      "Epoch: 800 | Loss: 0.03122851625084877 | Test Loss: 0.07297395914793015 \n",
      "Epoch: 810 | Loss: 0.03088562563061714 | Test Loss: 0.07214658707380295 \n",
      "Epoch: 820 | Loss: 0.03054172359406948 | Test Loss: 0.07131922990083694 \n",
      "Epoch: 830 | Loss: 0.030198251828551292 | Test Loss: 0.0705605149269104 \n",
      "Epoch: 840 | Loss: 0.029855191707611084 | Test Loss: 0.0697331428527832 \n",
      "Epoch: 850 | Loss: 0.029511287808418274 | Test Loss: 0.0689057856798172 \n",
      "Epoch: 860 | Loss: 0.02916799485683441 | Test Loss: 0.06814707070589066 \n",
      "Epoch: 870 | Loss: 0.028824755921959877 | Test Loss: 0.06731969118118286 \n",
      "Epoch: 880 | Loss: 0.02848084643483162 | Test Loss: 0.06649234890937805 \n",
      "Epoch: 890 | Loss: 0.02813773788511753 | Test Loss: 0.06573362648487091 \n",
      "Epoch: 900 | Loss: 0.027794325724244118 | Test Loss: 0.06490625441074371 \n",
      "Epoch: 910 | Loss: 0.02745041623711586 | Test Loss: 0.06407888978719711 \n",
      "Epoch: 920 | Loss: 0.0271074827760458 | Test Loss: 0.06332017481327057 \n",
      "Epoch: 930 | Loss: 0.026763886213302612 | Test Loss: 0.062492817640304565 \n",
      "Epoch: 940 | Loss: 0.02642008289694786 | Test Loss: 0.06173409894108772 \n",
      "Epoch: 950 | Loss: 0.02607722207903862 | Test Loss: 0.06090673804283142 \n",
      "Epoch: 960 | Loss: 0.025733450427651405 | Test Loss: 0.06007937341928482 \n",
      "Epoch: 970 | Loss: 0.02538982965052128 | Test Loss: 0.05932066589593887 \n",
      "Epoch: 980 | Loss: 0.02504691109061241 | Test Loss: 0.058493297547101974 \n",
      "Epoch: 990 | Loss: 0.0247030109167099 | Test Loss: 0.057665932923555374 \n",
      "Epoch: 1000 | Loss: 0.02435956709086895 | Test Loss: 0.05690721794962883 \n",
      "Epoch: 1010 | Loss: 0.024016480892896652 | Test Loss: 0.05607985332608223 \n",
      "Epoch: 1020 | Loss: 0.02367258258163929 | Test Loss: 0.055252473801374435 \n",
      "Epoch: 1030 | Loss: 0.023329313844442368 | Test Loss: 0.054493773728609085 \n",
      "Epoch: 1040 | Loss: 0.022986043244600296 | Test Loss: 0.05366641283035278 \n",
      "Epoch: 1050 | Loss: 0.022642139345407486 | Test Loss: 0.05283904820680618 \n",
      "Epoch: 1060 | Loss: 0.02229905314743519 | Test Loss: 0.05208033323287964 \n",
      "Epoch: 1070 | Loss: 0.02195560745894909 | Test Loss: 0.05125296115875244 \n",
      "Epoch: 1080 | Loss: 0.021611705422401428 | Test Loss: 0.05042559653520584 \n",
      "Epoch: 1090 | Loss: 0.021268798038363457 | Test Loss: 0.0496668815612793 \n",
      "Epoch: 1100 | Loss: 0.02092517353594303 | Test Loss: 0.0488395169377327 \n",
      "Epoch: 1110 | Loss: 0.020581401884555817 | Test Loss: 0.04808080196380615 \n",
      "Epoch: 1120 | Loss: 0.020238537341356277 | Test Loss: 0.047253452241420746 \n",
      "Epoch: 1130 | Loss: 0.019894743338227272 | Test Loss: 0.04642607644200325 \n",
      "Epoch: 1140 | Loss: 0.019551146775484085 | Test Loss: 0.0456673689186573 \n",
      "Epoch: 1150 | Loss: 0.019208211451768875 | Test Loss: 0.04483998939394951 \n",
      "Epoch: 1160 | Loss: 0.018864300101995468 | Test Loss: 0.044012635946273804 \n",
      "Epoch: 1170 | Loss: 0.018520886078476906 | Test Loss: 0.04325391724705696 \n",
      "Epoch: 1180 | Loss: 0.01817776821553707 | Test Loss: 0.04242655634880066 \n",
      "Epoch: 1190 | Loss: 0.01783386431634426 | Test Loss: 0.04159919545054436 \n",
      "Epoch: 1200 | Loss: 0.017490629106760025 | Test Loss: 0.04084048420190811 \n",
      "Epoch: 1210 | Loss: 0.017147328704595566 | Test Loss: 0.040013112127780914 \n",
      "Epoch: 1220 | Loss: 0.016803432255983353 | Test Loss: 0.03918575122952461 \n",
      "Epoch: 1230 | Loss: 0.016460370272397995 | Test Loss: 0.03842703625559807 \n",
      "Epoch: 1240 | Loss: 0.016116898506879807 | Test Loss: 0.03759966418147087 \n",
      "Epoch: 1250 | Loss: 0.015772998332977295 | Test Loss: 0.036772288382053375 \n",
      "Epoch: 1260 | Loss: 0.01543011236935854 | Test Loss: 0.03601359575986862 \n",
      "Epoch: 1270 | Loss: 0.015086461789906025 | Test Loss: 0.03518623113632202 \n",
      "Epoch: 1280 | Loss: 0.014742719009518623 | Test Loss: 0.03442750498652458 \n",
      "Epoch: 1290 | Loss: 0.014399850741028786 | Test Loss: 0.03360014408826828 \n",
      "Epoch: 1300 | Loss: 0.014056024141609669 | Test Loss: 0.03277278691530228 \n",
      "Epoch: 1310 | Loss: 0.013712462969124317 | Test Loss: 0.03201407939195633 \n",
      "Epoch: 1320 | Loss: 0.013369491323828697 | Test Loss: 0.031186699867248535 \n",
      "Epoch: 1330 | Loss: 0.01302559394389391 | Test Loss: 0.030359338968992233 \n",
      "Epoch: 1340 | Loss: 0.012682202272117138 | Test Loss: 0.029600614681839943 \n",
      "Epoch: 1350 | Loss: 0.012339059263467789 | Test Loss: 0.028773266822099686 \n",
      "Epoch: 1360 | Loss: 0.011995160952210426 | Test Loss: 0.02794589474797249 \n",
      "Epoch: 1370 | Loss: 0.011651946231722832 | Test Loss: 0.02718718722462654 \n",
      "Epoch: 1380 | Loss: 0.011308628134429455 | Test Loss: 0.026359815150499344 \n",
      "Epoch: 1390 | Loss: 0.010964717715978622 | Test Loss: 0.025532448664307594 \n",
      "Epoch: 1400 | Loss: 0.010621682740747929 | Test Loss: 0.0247737355530262 \n",
      "Epoch: 1410 | Loss: 0.010278185829520226 | Test Loss: 0.023946374654769897 \n",
      "Epoch: 1420 | Loss: 0.009934291243553162 | Test Loss: 0.023187648504972458 \n",
      "Epoch: 1430 | Loss: 0.009591431356966496 | Test Loss: 0.0223603006452322 \n",
      "Epoch: 1440 | Loss: 0.00924774818122387 | Test Loss: 0.021532922983169556 \n",
      "Epoch: 1450 | Loss: 0.008904037065804005 | Test Loss: 0.020774226635694504 \n",
      "Epoch: 1460 | Loss: 0.008561169728636742 | Test Loss: 0.019946854561567307 \n",
      "Epoch: 1470 | Loss: 0.008217317052185535 | Test Loss: 0.01911948248744011 \n",
      "Epoch: 1480 | Loss: 0.007873778231441975 | Test Loss: 0.018360769376158714 \n",
      "Epoch: 1490 | Loss: 0.0075307851657271385 | Test Loss: 0.01753341034054756 \n",
      "Epoch: 1500 | Loss: 0.007186878472566605 | Test Loss: 0.01670604944229126 \n",
      "Epoch: 1510 | Loss: 0.006843519397079945 | Test Loss: 0.01594732329249382 \n",
      "Epoch: 1520 | Loss: 0.006500349845737219 | Test Loss: 0.015119964256882668 \n",
      "Epoch: 1530 | Loss: 0.006156443618237972 | Test Loss: 0.014292603358626366 \n",
      "Epoch: 1540 | Loss: 0.005813261028379202 | Test Loss: 0.013533895835280418 \n",
      "Epoch: 1550 | Loss: 0.005469909869134426 | Test Loss: 0.012706518173217773 \n",
      "Epoch: 1560 | Loss: 0.0051260096952319145 | Test Loss: 0.011879158206284046 \n",
      "Epoch: 1570 | Loss: 0.004782737232744694 | Test Loss: 0.011086148209869862 \n",
      "Epoch: 1580 | Loss: 0.004439301788806915 | Test Loss: 0.010327416472136974 \n",
      "Epoch: 1590 | Loss: 0.004096207674592733 | Test Loss: 0.0095000509172678 \n",
      "Epoch: 1600 | Loss: 0.003752306802198291 | Test Loss: 0.008672690019011497 \n",
      "Epoch: 1610 | Loss: 0.0034090480767190456 | Test Loss: 0.007913952693343163 \n",
      "Epoch: 1620 | Loss: 0.0030657730530947447 | Test Loss: 0.007086604833602905 \n",
      "Epoch: 1630 | Loss: 0.0027218691539019346 | Test Loss: 0.006259244866669178 \n",
      "Epoch: 1640 | Loss: 0.0023787864483892918 | Test Loss: 0.005500525236129761 \n",
      "Epoch: 1650 | Loss: 0.002035337733104825 | Test Loss: 0.004673170857131481 \n",
      "Epoch: 1660 | Loss: 0.0016914367442950606 | Test Loss: 0.0038457990158349276 \n",
      "Epoch: 1670 | Loss: 0.0013485297095030546 | Test Loss: 0.0030870854388922453 \n",
      "Epoch: 1680 | Loss: 0.0010049014817923307 | Test Loss: 0.002259713364765048 \n",
      "Epoch: 1690 | Loss: 0.0006616368773393333 | Test Loss: 0.0014667033683508635 \n",
      "Epoch: 1700 | Loss: 0.0003177322505507618 | Test Loss: 0.0006393313524313271 \n",
      "Epoch: 1710 | Loss: 0.0004444979131221771 | Test Loss: 0.0005780101055279374 \n",
      "Epoch: 1720 | Loss: 0.0004444979131221771 | Test Loss: 0.0005780101055279374 \n",
      "Epoch: 1730 | Loss: 0.0004444979131221771 | Test Loss: 0.0005780101055279374 \n",
      "Epoch: 1740 | Loss: 0.0004444979131221771 | Test Loss: 0.0005780101055279374 \n",
      "Epoch: 1750 | Loss: 0.0004444979131221771 | Test Loss: 0.0005780101055279374 \n",
      "Epoch: 1760 | Loss: 0.0004444979131221771 | Test Loss: 0.0005780101055279374 \n",
      "Epoch: 1770 | Loss: 0.0004444979131221771 | Test Loss: 0.0005780101055279374 \n",
      "Epoch: 1780 | Loss: 0.0004444979131221771 | Test Loss: 0.0005780101055279374 \n",
      "Epoch: 1790 | Loss: 0.0004444979131221771 | Test Loss: 0.0005780101055279374 \n",
      "Epoch: 1800 | Loss: 0.0004444979131221771 | Test Loss: 0.0005780101055279374 \n",
      "Epoch: 1810 | Loss: 0.0004444979131221771 | Test Loss: 0.0005780101055279374 \n",
      "Epoch: 1820 | Loss: 0.0004444979131221771 | Test Loss: 0.0005780101055279374 \n",
      "Epoch: 1830 | Loss: 0.0004444979131221771 | Test Loss: 0.0005780101055279374 \n",
      "Epoch: 1840 | Loss: 0.0004444979131221771 | Test Loss: 0.0005780101055279374 \n",
      "Epoch: 1850 | Loss: 0.0004444979131221771 | Test Loss: 0.0005780101055279374 \n",
      "Epoch: 1860 | Loss: 0.0004444979131221771 | Test Loss: 0.0005780101055279374 \n",
      "Epoch: 1870 | Loss: 0.0004444979131221771 | Test Loss: 0.0005780101055279374 \n",
      "Epoch: 1880 | Loss: 0.0004444979131221771 | Test Loss: 0.0005780101055279374 \n",
      "Epoch: 1890 | Loss: 0.0004444979131221771 | Test Loss: 0.0005780101055279374 \n",
      "Epoch: 1900 | Loss: 0.0004444979131221771 | Test Loss: 0.0005780101055279374 \n",
      "Epoch: 1910 | Loss: 0.0004444979131221771 | Test Loss: 0.0005780101055279374 \n",
      "Epoch: 1920 | Loss: 0.0004444979131221771 | Test Loss: 0.0005780101055279374 \n",
      "Epoch: 1930 | Loss: 0.0004444979131221771 | Test Loss: 0.0005780101055279374 \n",
      "Epoch: 1940 | Loss: 0.0004444979131221771 | Test Loss: 0.0005780101055279374 \n",
      "Epoch: 1950 | Loss: 0.0004444979131221771 | Test Loss: 0.0005780101055279374 \n",
      "Epoch: 1960 | Loss: 0.0004444979131221771 | Test Loss: 0.0005780101055279374 \n",
      "Epoch: 1970 | Loss: 0.0004444979131221771 | Test Loss: 0.0005780101055279374 \n",
      "Epoch: 1980 | Loss: 0.0004444979131221771 | Test Loss: 0.0005780101055279374 \n",
      "Epoch: 1990 | Loss: 0.0004444979131221771 | Test Loss: 0.0005780101055279374 \n",
      "Epoch: 2000 | Loss: 0.0004444979131221771 | Test Loss: 0.0005780101055279374 \n",
      "Epoch: 2010 | Loss: 0.0004444979131221771 | Test Loss: 0.0005780101055279374 \n",
      "Epoch: 2020 | Loss: 0.0004444979131221771 | Test Loss: 0.0005780101055279374 \n",
      "Epoch: 2030 | Loss: 0.0004444979131221771 | Test Loss: 0.0005780101055279374 \n",
      "Epoch: 2040 | Loss: 0.0004444979131221771 | Test Loss: 0.0005780101055279374 \n",
      "Epoch: 2050 | Loss: 0.0004444979131221771 | Test Loss: 0.0005780101055279374 \n",
      "Epoch: 2060 | Loss: 0.0004444979131221771 | Test Loss: 0.0005780101055279374 \n",
      "Epoch: 2070 | Loss: 0.0004444979131221771 | Test Loss: 0.0005780101055279374 \n",
      "Epoch: 2080 | Loss: 0.0004444979131221771 | Test Loss: 0.0005780101055279374 \n",
      "Epoch: 2090 | Loss: 0.0004444979131221771 | Test Loss: 0.0005780101055279374 \n",
      "Epoch: 2100 | Loss: 0.0004444979131221771 | Test Loss: 0.0005780101055279374 \n",
      "Epoch: 2110 | Loss: 0.0004444979131221771 | Test Loss: 0.0005780101055279374 \n",
      "Epoch: 2120 | Loss: 0.0004444979131221771 | Test Loss: 0.0005780101055279374 \n",
      "Epoch: 2130 | Loss: 0.0004444979131221771 | Test Loss: 0.0005780101055279374 \n",
      "Epoch: 2140 | Loss: 0.0004444979131221771 | Test Loss: 0.0005780101055279374 \n",
      "Epoch: 2150 | Loss: 0.0004444979131221771 | Test Loss: 0.0005780101055279374 \n",
      "Epoch: 2160 | Loss: 0.0004444979131221771 | Test Loss: 0.0005780101055279374 \n",
      "Epoch: 2170 | Loss: 0.0004444979131221771 | Test Loss: 0.0005780101055279374 \n",
      "Epoch: 2180 | Loss: 0.0004444979131221771 | Test Loss: 0.0005780101055279374 \n",
      "Epoch: 2190 | Loss: 0.0004444979131221771 | Test Loss: 0.0005780101055279374 \n",
      "Epoch: 2200 | Loss: 0.0004444979131221771 | Test Loss: 0.0005780101055279374 \n",
      "Epoch: 2210 | Loss: 0.0004444979131221771 | Test Loss: 0.0005780101055279374 \n",
      "Epoch: 2220 | Loss: 0.0004444979131221771 | Test Loss: 0.0005780101055279374 \n",
      "Epoch: 2230 | Loss: 0.0004444979131221771 | Test Loss: 0.0005780101055279374 \n",
      "Epoch: 2240 | Loss: 0.0004444979131221771 | Test Loss: 0.0005780101055279374 \n",
      "Epoch: 2250 | Loss: 0.0004444979131221771 | Test Loss: 0.0005780101055279374 \n",
      "Epoch: 2260 | Loss: 0.0004444979131221771 | Test Loss: 0.0005780101055279374 \n",
      "Epoch: 2270 | Loss: 0.0004444979131221771 | Test Loss: 0.0005780101055279374 \n",
      "Epoch: 2280 | Loss: 0.0004444979131221771 | Test Loss: 0.0005780101055279374 \n",
      "Epoch: 2290 | Loss: 0.0004444979131221771 | Test Loss: 0.0005780101055279374 \n",
      "Epoch: 2300 | Loss: 0.0004444979131221771 | Test Loss: 0.0005780101055279374 \n",
      "Epoch: 2310 | Loss: 0.0004444979131221771 | Test Loss: 0.0005780101055279374 \n",
      "Epoch: 2320 | Loss: 0.0004444979131221771 | Test Loss: 0.0005780101055279374 \n",
      "Epoch: 2330 | Loss: 0.0004444979131221771 | Test Loss: 0.0005780101055279374 \n",
      "Epoch: 2340 | Loss: 0.0004444979131221771 | Test Loss: 0.0005780101055279374 \n",
      "Epoch: 2350 | Loss: 0.0004444979131221771 | Test Loss: 0.0005780101055279374 \n",
      "Epoch: 2360 | Loss: 0.0004444979131221771 | Test Loss: 0.0005780101055279374 \n",
      "Epoch: 2370 | Loss: 0.0004444979131221771 | Test Loss: 0.0005780101055279374 \n",
      "Epoch: 2380 | Loss: 0.0004444979131221771 | Test Loss: 0.0005780101055279374 \n",
      "Epoch: 2390 | Loss: 0.0004444979131221771 | Test Loss: 0.0005780101055279374 \n",
      "Epoch: 2400 | Loss: 0.0004444979131221771 | Test Loss: 0.0005780101055279374 \n",
      "Epoch: 2410 | Loss: 0.0004444979131221771 | Test Loss: 0.0005780101055279374 \n",
      "Epoch: 2420 | Loss: 0.0004444979131221771 | Test Loss: 0.0005780101055279374 \n",
      "Epoch: 2430 | Loss: 0.0004444979131221771 | Test Loss: 0.0005780101055279374 \n",
      "Epoch: 2440 | Loss: 0.0004444979131221771 | Test Loss: 0.0005780101055279374 \n",
      "Epoch: 2450 | Loss: 0.0004444979131221771 | Test Loss: 0.0005780101055279374 \n",
      "Epoch: 2460 | Loss: 0.0004444979131221771 | Test Loss: 0.0005780101055279374 \n",
      "Epoch: 2470 | Loss: 0.0004444979131221771 | Test Loss: 0.0005780101055279374 \n",
      "Epoch: 2480 | Loss: 0.0004444979131221771 | Test Loss: 0.0005780101055279374 \n",
      "Epoch: 2490 | Loss: 0.0004444979131221771 | Test Loss: 0.0005780101055279374 \n",
      "Epoch: 2500 | Loss: 0.0004444979131221771 | Test Loss: 0.0005780101055279374 \n",
      "Epoch: 2510 | Loss: 0.0004444979131221771 | Test Loss: 0.0005780101055279374 \n",
      "Epoch: 2520 | Loss: 0.0004444979131221771 | Test Loss: 0.0005780101055279374 \n",
      "Epoch: 2530 | Loss: 0.0004444979131221771 | Test Loss: 0.0005780101055279374 \n",
      "Epoch: 2540 | Loss: 0.0004444979131221771 | Test Loss: 0.0005780101055279374 \n",
      "Epoch: 2550 | Loss: 0.0004444979131221771 | Test Loss: 0.0005780101055279374 \n",
      "Epoch: 2560 | Loss: 0.0004444979131221771 | Test Loss: 0.0005780101055279374 \n",
      "Epoch: 2570 | Loss: 0.0004444979131221771 | Test Loss: 0.0005780101055279374 \n",
      "Epoch: 2580 | Loss: 0.0004444979131221771 | Test Loss: 0.0005780101055279374 \n",
      "Epoch: 2590 | Loss: 0.0004444979131221771 | Test Loss: 0.0005780101055279374 \n",
      "Epoch: 2600 | Loss: 0.0004444979131221771 | Test Loss: 0.0005780101055279374 \n",
      "Epoch: 2610 | Loss: 0.0004444979131221771 | Test Loss: 0.0005780101055279374 \n",
      "Epoch: 2620 | Loss: 0.0004444979131221771 | Test Loss: 0.0005780101055279374 \n",
      "Epoch: 2630 | Loss: 0.0004444979131221771 | Test Loss: 0.0005780101055279374 \n",
      "Epoch: 2640 | Loss: 0.0004444979131221771 | Test Loss: 0.0005780101055279374 \n",
      "Epoch: 2650 | Loss: 0.0004444979131221771 | Test Loss: 0.0005780101055279374 \n",
      "Epoch: 2660 | Loss: 0.0004444979131221771 | Test Loss: 0.0005780101055279374 \n",
      "Epoch: 2670 | Loss: 0.0004444979131221771 | Test Loss: 0.0005780101055279374 \n",
      "Epoch: 2680 | Loss: 0.0004444979131221771 | Test Loss: 0.0005780101055279374 \n",
      "Epoch: 2690 | Loss: 0.0004444979131221771 | Test Loss: 0.0005780101055279374 \n",
      "Epoch: 2700 | Loss: 0.0004444979131221771 | Test Loss: 0.0005780101055279374 \n",
      "Epoch: 2710 | Loss: 0.0004444979131221771 | Test Loss: 0.0005780101055279374 \n",
      "Epoch: 2720 | Loss: 0.0004444979131221771 | Test Loss: 0.0005780101055279374 \n",
      "Epoch: 2730 | Loss: 0.0004444979131221771 | Test Loss: 0.0005780101055279374 \n",
      "Epoch: 2740 | Loss: 0.0004444979131221771 | Test Loss: 0.0005780101055279374 \n",
      "Epoch: 2750 | Loss: 0.0004444979131221771 | Test Loss: 0.0005780101055279374 \n",
      "Epoch: 2760 | Loss: 0.0004444979131221771 | Test Loss: 0.0005780101055279374 \n",
      "Epoch: 2770 | Loss: 0.0004444979131221771 | Test Loss: 0.0005780101055279374 \n",
      "Epoch: 2780 | Loss: 0.0004444979131221771 | Test Loss: 0.0005780101055279374 \n",
      "Epoch: 2790 | Loss: 0.0004444979131221771 | Test Loss: 0.0005780101055279374 \n",
      "Epoch: 2800 | Loss: 0.0004444979131221771 | Test Loss: 0.0005780101055279374 \n",
      "Epoch: 2810 | Loss: 0.0004444979131221771 | Test Loss: 0.0005780101055279374 \n",
      "Epoch: 2820 | Loss: 0.0004444979131221771 | Test Loss: 0.0005780101055279374 \n",
      "Epoch: 2830 | Loss: 0.0004444979131221771 | Test Loss: 0.0005780101055279374 \n",
      "Epoch: 2840 | Loss: 0.0004444979131221771 | Test Loss: 0.0005780101055279374 \n",
      "Epoch: 2850 | Loss: 0.0004444979131221771 | Test Loss: 0.0005780101055279374 \n",
      "Epoch: 2860 | Loss: 0.0004444979131221771 | Test Loss: 0.0005780101055279374 \n",
      "Epoch: 2870 | Loss: 0.0004444979131221771 | Test Loss: 0.0005780101055279374 \n",
      "Epoch: 2880 | Loss: 0.0004444979131221771 | Test Loss: 0.0005780101055279374 \n",
      "Epoch: 2890 | Loss: 0.0004444979131221771 | Test Loss: 0.0005780101055279374 \n",
      "Epoch: 2900 | Loss: 0.0004444979131221771 | Test Loss: 0.0005780101055279374 \n",
      "Epoch: 2910 | Loss: 0.0004444979131221771 | Test Loss: 0.0005780101055279374 \n",
      "Epoch: 2920 | Loss: 0.0004444979131221771 | Test Loss: 0.0005780101055279374 \n",
      "Epoch: 2930 | Loss: 0.0004444979131221771 | Test Loss: 0.0005780101055279374 \n",
      "Epoch: 2940 | Loss: 0.0004444979131221771 | Test Loss: 0.0005780101055279374 \n",
      "Epoch: 2950 | Loss: 0.0004444979131221771 | Test Loss: 0.0005780101055279374 \n",
      "Epoch: 2960 | Loss: 0.0004444979131221771 | Test Loss: 0.0005780101055279374 \n",
      "Epoch: 2970 | Loss: 0.0004444979131221771 | Test Loss: 0.0005780101055279374 \n",
      "Epoch: 2980 | Loss: 0.0004444979131221771 | Test Loss: 0.0005780101055279374 \n",
      "Epoch: 2990 | Loss: 0.0004444979131221771 | Test Loss: 0.0005780101055279374 \n",
      "Epoch: 3000 | Loss: 0.0004444979131221771 | Test Loss: 0.0005780101055279374 \n",
      "Epoch: 3010 | Loss: 0.0004444979131221771 | Test Loss: 0.0005780101055279374 \n",
      "Epoch: 3020 | Loss: 0.0004444979131221771 | Test Loss: 0.0005780101055279374 \n",
      "Epoch: 3030 | Loss: 0.0004444979131221771 | Test Loss: 0.0005780101055279374 \n",
      "Epoch: 3040 | Loss: 0.0004444979131221771 | Test Loss: 0.0005780101055279374 \n",
      "Epoch: 3050 | Loss: 0.0004444979131221771 | Test Loss: 0.0005780101055279374 \n",
      "Epoch: 3060 | Loss: 0.0004444979131221771 | Test Loss: 0.0005780101055279374 \n",
      "Epoch: 3070 | Loss: 0.0004444979131221771 | Test Loss: 0.0005780101055279374 \n",
      "Epoch: 3080 | Loss: 0.0004444979131221771 | Test Loss: 0.0005780101055279374 \n",
      "Epoch: 3090 | Loss: 0.0004444979131221771 | Test Loss: 0.0005780101055279374 \n",
      "Epoch: 3100 | Loss: 0.0004444979131221771 | Test Loss: 0.0005780101055279374 \n",
      "Epoch: 3110 | Loss: 0.0004444979131221771 | Test Loss: 0.0005780101055279374 \n",
      "Epoch: 3120 | Loss: 0.0004444979131221771 | Test Loss: 0.0005780101055279374 \n",
      "Epoch: 3130 | Loss: 0.0004444979131221771 | Test Loss: 0.0005780101055279374 \n",
      "Epoch: 3140 | Loss: 0.0004444979131221771 | Test Loss: 0.0005780101055279374 \n",
      "Epoch: 3150 | Loss: 0.0004444979131221771 | Test Loss: 0.0005780101055279374 \n",
      "Epoch: 3160 | Loss: 0.0004444979131221771 | Test Loss: 0.0005780101055279374 \n",
      "Epoch: 3170 | Loss: 0.0004444979131221771 | Test Loss: 0.0005780101055279374 \n",
      "Epoch: 3180 | Loss: 0.0004444979131221771 | Test Loss: 0.0005780101055279374 \n",
      "Epoch: 3190 | Loss: 0.0004444979131221771 | Test Loss: 0.0005780101055279374 \n",
      "Epoch: 3200 | Loss: 0.0004444979131221771 | Test Loss: 0.0005780101055279374 \n",
      "Epoch: 3210 | Loss: 0.0004444979131221771 | Test Loss: 0.0005780101055279374 \n",
      "Epoch: 3220 | Loss: 0.0004444979131221771 | Test Loss: 0.0005780101055279374 \n",
      "Epoch: 3230 | Loss: 0.0004444979131221771 | Test Loss: 0.0005780101055279374 \n",
      "Epoch: 3240 | Loss: 0.0004444979131221771 | Test Loss: 0.0005780101055279374 \n",
      "Epoch: 3250 | Loss: 0.0004444979131221771 | Test Loss: 0.0005780101055279374 \n",
      "Epoch: 3260 | Loss: 0.0004444979131221771 | Test Loss: 0.0005780101055279374 \n",
      "Epoch: 3270 | Loss: 0.0004444979131221771 | Test Loss: 0.0005780101055279374 \n",
      "Epoch: 3280 | Loss: 0.0004444979131221771 | Test Loss: 0.0005780101055279374 \n",
      "Epoch: 3290 | Loss: 0.0004444979131221771 | Test Loss: 0.0005780101055279374 \n",
      "Epoch: 3300 | Loss: 0.0004444979131221771 | Test Loss: 0.0005780101055279374 \n",
      "Epoch: 3310 | Loss: 0.0004444979131221771 | Test Loss: 0.0005780101055279374 \n",
      "Epoch: 3320 | Loss: 0.0004444979131221771 | Test Loss: 0.0005780101055279374 \n",
      "Epoch: 3330 | Loss: 0.0004444979131221771 | Test Loss: 0.0005780101055279374 \n",
      "Epoch: 3340 | Loss: 0.0004444979131221771 | Test Loss: 0.0005780101055279374 \n",
      "Epoch: 3350 | Loss: 0.0004444979131221771 | Test Loss: 0.0005780101055279374 \n",
      "Epoch: 3360 | Loss: 0.0004444979131221771 | Test Loss: 0.0005780101055279374 \n",
      "Epoch: 3370 | Loss: 0.0004444979131221771 | Test Loss: 0.0005780101055279374 \n",
      "Epoch: 3380 | Loss: 0.0004444979131221771 | Test Loss: 0.0005780101055279374 \n",
      "Epoch: 3390 | Loss: 0.0004444979131221771 | Test Loss: 0.0005780101055279374 \n",
      "Epoch: 3400 | Loss: 0.0004444979131221771 | Test Loss: 0.0005780101055279374 \n",
      "Epoch: 3410 | Loss: 0.0004444979131221771 | Test Loss: 0.0005780101055279374 \n",
      "Epoch: 3420 | Loss: 0.0004444979131221771 | Test Loss: 0.0005780101055279374 \n",
      "Epoch: 3430 | Loss: 0.0004444979131221771 | Test Loss: 0.0005780101055279374 \n",
      "Epoch: 3440 | Loss: 0.0004444979131221771 | Test Loss: 0.0005780101055279374 \n",
      "Epoch: 3450 | Loss: 0.0004444979131221771 | Test Loss: 0.0005780101055279374 \n",
      "Epoch: 3460 | Loss: 0.0004444979131221771 | Test Loss: 0.0005780101055279374 \n",
      "Epoch: 3470 | Loss: 0.0004444979131221771 | Test Loss: 0.0005780101055279374 \n",
      "Epoch: 3480 | Loss: 0.0004444979131221771 | Test Loss: 0.0005780101055279374 \n",
      "Epoch: 3490 | Loss: 0.0004444979131221771 | Test Loss: 0.0005780101055279374 \n",
      "Epoch: 3500 | Loss: 0.0004444979131221771 | Test Loss: 0.0005780101055279374 \n",
      "Epoch: 3510 | Loss: 0.0004444979131221771 | Test Loss: 0.0005780101055279374 \n",
      "Epoch: 3520 | Loss: 0.0004444979131221771 | Test Loss: 0.0005780101055279374 \n",
      "Epoch: 3530 | Loss: 0.0004444979131221771 | Test Loss: 0.0005780101055279374 \n",
      "Epoch: 3540 | Loss: 0.0004444979131221771 | Test Loss: 0.0005780101055279374 \n",
      "Epoch: 3550 | Loss: 0.0004444979131221771 | Test Loss: 0.0005780101055279374 \n",
      "Epoch: 3560 | Loss: 0.0004444979131221771 | Test Loss: 0.0005780101055279374 \n",
      "Epoch: 3570 | Loss: 0.0004444979131221771 | Test Loss: 0.0005780101055279374 \n",
      "Epoch: 3580 | Loss: 0.0004444979131221771 | Test Loss: 0.0005780101055279374 \n",
      "Epoch: 3590 | Loss: 0.0004444979131221771 | Test Loss: 0.0005780101055279374 \n",
      "Epoch: 3600 | Loss: 0.0004444979131221771 | Test Loss: 0.0005780101055279374 \n",
      "Epoch: 3610 | Loss: 0.0004444979131221771 | Test Loss: 0.0005780101055279374 \n",
      "Epoch: 3620 | Loss: 0.0004444979131221771 | Test Loss: 0.0005780101055279374 \n",
      "Epoch: 3630 | Loss: 0.0004444979131221771 | Test Loss: 0.0005780101055279374 \n",
      "Epoch: 3640 | Loss: 0.0004444979131221771 | Test Loss: 0.0005780101055279374 \n",
      "Epoch: 3650 | Loss: 0.0004444979131221771 | Test Loss: 0.0005780101055279374 \n",
      "Epoch: 3660 | Loss: 0.0004444979131221771 | Test Loss: 0.0005780101055279374 \n",
      "Epoch: 3670 | Loss: 0.0004444979131221771 | Test Loss: 0.0005780101055279374 \n",
      "Epoch: 3680 | Loss: 0.0004444979131221771 | Test Loss: 0.0005780101055279374 \n",
      "Epoch: 3690 | Loss: 0.0004444979131221771 | Test Loss: 0.0005780101055279374 \n",
      "Epoch: 3700 | Loss: 0.0004444979131221771 | Test Loss: 0.0005780101055279374 \n",
      "Epoch: 3710 | Loss: 0.0004444979131221771 | Test Loss: 0.0005780101055279374 \n",
      "Epoch: 3720 | Loss: 0.0004444979131221771 | Test Loss: 0.0005780101055279374 \n",
      "Epoch: 3730 | Loss: 0.0004444979131221771 | Test Loss: 0.0005780101055279374 \n",
      "Epoch: 3740 | Loss: 0.0004444979131221771 | Test Loss: 0.0005780101055279374 \n",
      "Epoch: 3750 | Loss: 0.0004444979131221771 | Test Loss: 0.0005780101055279374 \n",
      "Epoch: 3760 | Loss: 0.0004444979131221771 | Test Loss: 0.0005780101055279374 \n",
      "Epoch: 3770 | Loss: 0.0004444979131221771 | Test Loss: 0.0005780101055279374 \n",
      "Epoch: 3780 | Loss: 0.0004444979131221771 | Test Loss: 0.0005780101055279374 \n",
      "Epoch: 3790 | Loss: 0.0004444979131221771 | Test Loss: 0.0005780101055279374 \n",
      "Epoch: 3800 | Loss: 0.0004444979131221771 | Test Loss: 0.0005780101055279374 \n",
      "Epoch: 3810 | Loss: 0.0004444979131221771 | Test Loss: 0.0005780101055279374 \n",
      "Epoch: 3820 | Loss: 0.0004444979131221771 | Test Loss: 0.0005780101055279374 \n",
      "Epoch: 3830 | Loss: 0.0004444979131221771 | Test Loss: 0.0005780101055279374 \n",
      "Epoch: 3840 | Loss: 0.0004444979131221771 | Test Loss: 0.0005780101055279374 \n",
      "Epoch: 3850 | Loss: 0.0004444979131221771 | Test Loss: 0.0005780101055279374 \n",
      "Epoch: 3860 | Loss: 0.0004444979131221771 | Test Loss: 0.0005780101055279374 \n",
      "Epoch: 3870 | Loss: 0.0004444979131221771 | Test Loss: 0.0005780101055279374 \n",
      "Epoch: 3880 | Loss: 0.0004444979131221771 | Test Loss: 0.0005780101055279374 \n",
      "Epoch: 3890 | Loss: 0.0004444979131221771 | Test Loss: 0.0005780101055279374 \n",
      "Epoch: 3900 | Loss: 0.0004444979131221771 | Test Loss: 0.0005780101055279374 \n",
      "Epoch: 3910 | Loss: 0.0004444979131221771 | Test Loss: 0.0005780101055279374 \n",
      "Epoch: 3920 | Loss: 0.0004444979131221771 | Test Loss: 0.0005780101055279374 \n",
      "Epoch: 3930 | Loss: 0.0004444979131221771 | Test Loss: 0.0005780101055279374 \n",
      "Epoch: 3940 | Loss: 0.0004444979131221771 | Test Loss: 0.0005780101055279374 \n",
      "Epoch: 3950 | Loss: 0.0004444979131221771 | Test Loss: 0.0005780101055279374 \n",
      "Epoch: 3960 | Loss: 0.0004444979131221771 | Test Loss: 0.0005780101055279374 \n",
      "Epoch: 3970 | Loss: 0.0004444979131221771 | Test Loss: 0.0005780101055279374 \n",
      "Epoch: 3980 | Loss: 0.0004444979131221771 | Test Loss: 0.0005780101055279374 \n",
      "Epoch: 3990 | Loss: 0.0004444979131221771 | Test Loss: 0.0005780101055279374 \n"
     ]
    }
   ],
   "source": [
    "torch.manual_seed(42)\n",
    "\n",
    "epoch_count = []\n",
    "loss_value = []\n",
    "test_loss_value = []\n",
    "\n",
    "epochs = 4000\n",
    "\n",
    "for epoch in range(epochs):\n",
    "    # Set the model to training mode\n",
    "    model_0.train()\n",
    "\n",
    "\n",
    "    # 1. Forward pass\n",
    "    y_preds = model_0(x_train)\n",
    "\n",
    "    #2. Loss caluculation\n",
    "    loss = loss_fn(y_preds, y_train)\n",
    "\n",
    "    #3 . optimizer zero grad\n",
    "    optimizer.zero_grad()\n",
    "\n",
    "    # 4. Backprop on the loss with respect to the parameters of the model\n",
    "    loss.backward()\n",
    "\n",
    "    # 5. step the optimizer (perform gradient descent)\n",
    "    optimizer.step()\n",
    "\n",
    "    model_0.eval() # turns off gradaient tracking\n",
    "\n",
    "    with torch.inference_mode():\n",
    "        test_pred = model_0(x_test)\n",
    "\n",
    "        test_loss = loss_fn(test_pred,y_test)\n",
    "\n",
    "\n",
    "    if epoch % 10 == 0:\n",
    "        epoch_count.append(epoch)\n",
    "        loss_value.append(loss)\n",
    "        test_loss_value.append(test_loss)\n",
    "        print(f\"Epoch: {epoch} | Loss: {loss} | Test Loss: {test_loss} \")\n",
    "\n",
    "    "
   ]
  },
  {
   "cell_type": "code",
   "execution_count": 17,
   "metadata": {},
   "outputs": [
    {
     "data": {
      "text/plain": [
       "OrderedDict([('weights', tensor([0.6994])), ('bias', tensor([0.2998]))])"
      ]
     },
     "execution_count": 17,
     "metadata": {},
     "output_type": "execute_result"
    }
   ],
   "source": [
    "# after one epoch\n",
    "model_0.state_dict()"
   ]
  },
  {
   "cell_type": "code",
   "execution_count": 18,
   "metadata": {},
   "outputs": [
    {
     "data": {
      "image/png": "[encoded data removed]",
      "text/plain": [
       "<Figure size 1000x700 with 1 Axes>"
      ]
     },
     "metadata": {},
     "output_type": "display_data"
    }
   ],
   "source": [
    "with torch.inference_mode():\n",
    "    y_preds_new = model_0(x_test)\n",
    "plot_prediction(predictions=y_preds_new)"
   ]
  },
  {
   "cell_type": "code",
   "execution_count": 22,
   "metadata": {},
   "outputs": [
    {
     "data": {
      "text/plain": [
       "<matplotlib.legend.Legend at 0x7fa1a45b41f0>"
      ]
     },
     "execution_count": 22,
     "metadata": {},
     "output_type": "execute_result"
    },
    {
     "data": {
      "image/png": "[encoded data removed]",
      "text/plain": [
       "<Figure size 640x480 with 1 Axes>"
      ]
     },
     "metadata": {},
     "output_type": "display_data"
    }
   ],
   "source": [
    "# plot the loss curve\n",
    "import numpy as np\n",
    "plt.plot(epoch_count,np.array(torch.tensor(loss_value).numpy()), label=\"Train loss\")\n",
    "plt.plot(epoch_count,test_loss_value,label=\"Test loss\")\n",
    "plt.title(\"Training and test loss values\")\n",
    "plt.xlabel(\"epoch\")\n",
    "plt.ylabel(\"loss\")\n",
    "plt.legend()"
   ]
  },
  {
   "cell_type": "code",
   "execution_count": null,
   "metadata": {},
   "outputs": [],
   "source": []
  }
 ],
 "metadata": {
  "kernelspec": {
   "display_name": "pytorch",
   "language": "python",
   "name": "python3"
  },
  "language_info": {
   "codemirror_mode": {
    "name": "ipython",
    "version": 3
   },
   "file_extension": ".py",
   "mimetype": "text/x-python",
   "name": "python",
   "nbconvert_exporter": "python",
   "pygments_lexer": "ipython3",
   "version": "3.10.10"
  },
  "orig_nbformat": 4
 },
 "nbformat": 4,
 "nbformat_minor": 2
}
