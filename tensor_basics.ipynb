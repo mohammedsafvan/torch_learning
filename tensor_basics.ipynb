{
 "cells": [
  {
   "cell_type": "code",
   "execution_count": 6,
   "metadata": {},
   "outputs": [],
   "source": [
    "import torch as th"
   ]
  },
  {
   "cell_type": "code",
   "execution_count": 15,
   "metadata": {},
   "outputs": [
    {
     "data": {
      "text/plain": [
       "tensor([[[0.7367, 0.8534, 0.9486, 0.5276, 0.1404],\n",
       "         [0.6564, 0.6157, 0.1070, 0.7246, 0.4752],\n",
       "         [0.7146, 0.7425, 0.7381, 0.8789, 0.9213],\n",
       "         [0.7337, 0.0393, 0.6103, 0.2979, 0.2206]],\n",
       "\n",
       "        [[0.8785, 0.8827, 0.4020, 0.6689, 0.0382],\n",
       "         [0.5859, 0.1242, 0.6103, 0.1745, 0.5121],\n",
       "         [0.4007, 0.8306, 0.4340, 0.0963, 0.2068],\n",
       "         [0.8425, 0.5480, 0.5074, 0.4716, 0.4034]],\n",
       "\n",
       "        [[0.1269, 0.2177, 0.5137, 0.7477, 0.8237],\n",
       "         [0.5276, 0.8212, 0.7383, 0.4854, 0.6150],\n",
       "         [0.0635, 0.9190, 0.6887, 0.2141, 0.9739],\n",
       "         [0.3056, 0.4592, 0.4390, 0.3903, 0.7194]]])"
      ]
     },
     "execution_count": 15,
     "metadata": {},
     "output_type": "execute_result"
    }
   ],
   "source": [
    "tensor = th.rand((3,4,5))\n",
    "tensor"
   ]
  },
  {
   "cell_type": "code",
   "execution_count": null,
   "metadata": {},
   "outputs": [],
   "source": []
  }
 ],
 "metadata": {
  "kernelspec": {
   "display_name": "Python 3.10.8 ('pytorch')",
   "language": "python",
   "name": "python3"
  },
  "language_info": {
   "codemirror_mode": {
    "name": "ipython",
    "version": 3
   },
   "file_extension": ".py",
   "mimetype": "text/x-python",
   "name": "python",
   "nbconvert_exporter": "python",
   "pygments_lexer": "ipython3",
   "version": "3.10.8"
  },
  "orig_nbformat": 4,
  "vscode": {
   "interpreter": {
    "hash": "6d73b846e55720e68950c8eefc686c0232a1712119ca6505a9a8274a038fa13d"
   }
  }
 },
 "nbformat": 4,
 "nbformat_minor": 2
}
