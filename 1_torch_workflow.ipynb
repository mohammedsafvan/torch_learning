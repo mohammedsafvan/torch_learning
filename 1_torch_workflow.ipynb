{
 "cells": [
  {
   "cell_type": "code",
   "execution_count": 1,
   "metadata": {},
   "outputs": [
    {
     "name": "stderr",
     "output_type": "stream",
     "text": [
      "/home/mohammed/environments/pytorch/lib/python3.10/site-packages/tqdm/auto.py:22: TqdmWarning: IProgress not found. Please update jupyter and ipywidgets. See https://ipywidgets.readthedocs.io/en/stable/user_install.html\n",
      "  from .autonotebook import tqdm as notebook_tqdm\n"
     ]
    }
   ],
   "source": [
    "import torch\n",
    "import torch.nn as nn"
   ]
  },
  {
   "cell_type": "code",
   "execution_count": 2,
   "metadata": {},
   "outputs": [
    {
     "data": {
      "text/plain": [
       "(tensor([[0.0000],\n",
       "         [0.0200],\n",
       "         [0.0400],\n",
       "         [0.0600],\n",
       "         [0.0800],\n",
       "         [0.1000],\n",
       "         [0.1200],\n",
       "         [0.1400],\n",
       "         [0.1600],\n",
       "         [0.1800]]),\n",
       " tensor([[50.],\n",
       "         [52.],\n",
       "         [54.],\n",
       "         [56.],\n",
       "         [58.],\n",
       "         [60.],\n",
       "         [62.],\n",
       "         [64.],\n",
       "         [66.],\n",
       "         [68.]]))"
      ]
     },
     "execution_count": 2,
     "metadata": {},
     "output_type": "execute_result"
    }
   ],
   "source": [
    "weight = 0.7\n",
    "bias = 0.3\n",
    "\n",
    "\n",
    "start = 0\n",
    "end = 1\n",
    "step = 0.02\n",
    "X = torch.arange(start, end, step).unsqueeze(dim=1)\n",
    "Y = weight * X + bias\n",
    "X[:10], Y[:10]"
   ]
  },
  {
   "cell_type": "code",
   "execution_count": 3,
   "metadata": {},
   "outputs": [
    {
     "data": {
      "text/plain": [
       "(50, 50)"
      ]
     },
     "execution_count": 3,
     "metadata": {},
     "output_type": "execute_result"
    }
   ],
   "source": [
    "len(X), len(Y)"
   ]
  },
  {
   "attachments": {},
   "cell_type": "markdown",
   "metadata": {},
   "source": [
    "# spllitting Data into train and test"
   ]
  },
  {
   "cell_type": "code",
   "execution_count": 4,
   "metadata": {},
   "outputs": [
    {
     "data": {
      "text/plain": [
       "(40, 40, 10, 10)"
      ]
     },
     "execution_count": 4,
     "metadata": {},
     "output_type": "execute_result"
    }
   ],
   "source": [
    "train_split = int(0.8 * len(X))\n",
    "# x -> features\n",
    "# y -> labels\n",
    "x_train, y_train = X[:train_split],Y[:train_split]\n",
    "x_test , y_test = X[train_split:],Y[train_split:]\n",
    "\n",
    "len(x_train), len(y_train),len(x_test),len(y_test)"
   ]
  },
  {
   "cell_type": "code",
   "execution_count": 5,
   "metadata": {},
   "outputs": [
    {
     "data": {
      "text/plain": [
       "(tensor([[0.0000],\n",
       "         [0.0200],\n",
       "         [0.0400],\n",
       "         [0.0600],\n",
       "         [0.0800],\n",
       "         [0.1000],\n",
       "         [0.1200],\n",
       "         [0.1400],\n",
       "         [0.1600],\n",
       "         [0.1800]]),\n",
       " tensor([[50.],\n",
       "         [52.],\n",
       "         [54.],\n",
       "         [56.],\n",
       "         [58.],\n",
       "         [60.],\n",
       "         [62.],\n",
       "         [64.],\n",
       "         [66.],\n",
       "         [68.]]))"
      ]
     },
     "execution_count": 5,
     "metadata": {},
     "output_type": "execute_result"
    }
   ],
   "source": [
    "x_train[:10], y_train[:10]"
   ]
  },
  {
   "attachments": {},
   "cell_type": "markdown",
   "metadata": {},
   "source": [
    "# Visualizing using Matplotlib"
   ]
  },
  {
   "cell_type": "code",
   "execution_count": 6,
   "metadata": {},
   "outputs": [],
   "source": [
    "import matplotlib.pyplot as plt\n",
    "\n",
    "\n",
    "def plot_prediction(train_data = x_train,\n",
    "                    train_labels = y_train,\n",
    "                    test_data=x_test,\n",
    "                    test_labels=y_test,\n",
    "                    predictions=None):\n",
    "    \"\"\"\n",
    "    Plot training data, test data and compare predictions.\n",
    "    \"\"\"\n",
    "    plt.figure(figsize=(10,7))\n",
    "\n",
    "    # plot train data\n",
    "    plt.scatter(train_data, train_labels,c='b',s=4,label=\"Training Data\")\n",
    "\n",
    "    # plot test data\n",
    "    plt.scatter(test_data, test_labels,c='r',s=4, label=\"Testing data\")\n",
    "    \n",
    "    # checking for pred\n",
    "    if predictions is not None:\n",
    "        plt.scatter(test_data, predictions,c='g',s=4, label=\"Prediction\")\n",
    "\n",
    "    plt.legend(prop={\"size\":14})"
   ]
  },
  {
   "cell_type": "code",
   "execution_count": 7,
   "metadata": {},
   "outputs": [
    {
     "data": {
      "image/png": "[encoded data removed]",
      "text/plain": [
       "<Figure size 1000x700 with 1 Axes>"
      ]
     },
     "metadata": {},
     "output_type": "display_data"
    }
   ],
   "source": [
    "plot_prediction()"
   ]
  },
  {
   "attachments": {},
   "cell_type": "markdown",
   "metadata": {},
   "source": [
    "# Model Bulding"
   ]
  },
  {
   "cell_type": "code",
   "execution_count": 8,
   "metadata": {},
   "outputs": [],
   "source": [
    "# Linear Regression model class\n",
    "class LinearRegressionModel(nn.Module):\n",
    "    def __init__(self):\n",
    "        super().__init__()\n",
    "        self.weights = nn.Parameter(torch.randn(1, requires_grad=True,dtype=torch.float))\n",
    "\n",
    "        self.bias = nn.Parameter(torch.randn(1, requires_grad=True,dtype=torch.float))\n",
    "\n",
    "    def forward(self, x:torch.Tensor) -> torch.Tensor:\n",
    "        return self.weights * x + self.bias"
   ]
  },
  {
   "attachments": {},
   "cell_type": "markdown",
   "metadata": {},
   "source": [
    "# Checking content of pytorch model\n",
    "### check model parameters using `.parameters()`"
   ]
  },
  {
   "cell_type": "code",
   "execution_count": 9,
   "metadata": {},
   "outputs": [
    {
     "data": {
      "text/plain": [
       "[Parameter containing:\n",
       " tensor([0.3367], requires_grad=True),\n",
       " Parameter containing:\n",
       " tensor([0.1288], requires_grad=True)]"
      ]
     },
     "execution_count": 9,
     "metadata": {},
     "output_type": "execute_result"
    }
   ],
   "source": [
    "# For reproducibility manual seed\n",
    "torch.manual_seed(42)\n",
    "\n",
    "# Model instance\n",
    "model_0 = LinearRegressionModel()\n",
    "\n",
    "list(model_0.parameters())"
   ]
  },
  {
   "cell_type": "code",
   "execution_count": 10,
   "metadata": {},
   "outputs": [
    {
     "data": {
      "text/plain": [
       "OrderedDict([('weights', tensor([0.3367])), ('bias', tensor([0.1288]))])"
      ]
     },
     "execution_count": 10,
     "metadata": {},
     "output_type": "execute_result"
    }
   ],
   "source": [
    "# List named parameters\n",
    "model_0.state_dict()"
   ]
  },
  {
   "attachments": {},
   "cell_type": "markdown",
   "metadata": {},
   "source": [
    "# Making predictions using `torch.inference_mode()`\n",
    "#### Let's see how well it predicts `y_test`(test labels) with `x_test` (test data)"
   ]
  },
  {
   "cell_type": "code",
   "execution_count": 11,
   "metadata": {},
   "outputs": [
    {
     "data": {
      "text/plain": [
       "(tensor([[0.8000],\n",
       "         [0.8200],\n",
       "         [0.8400],\n",
       "         [0.8600],\n",
       "         [0.8800],\n",
       "         [0.9000],\n",
       "         [0.9200],\n",
       "         [0.9400],\n",
       "         [0.9600],\n",
       "         [0.9800]]),\n",
       " tensor([[130.],\n",
       "         [132.],\n",
       "         [134.],\n",
       "         [136.],\n",
       "         [138.],\n",
       "         [140.],\n",
       "         [142.],\n",
       "         [144.],\n",
       "         [146.],\n",
       "         [148.]]))"
      ]
     },
     "execution_count": 11,
     "metadata": {},
     "output_type": "execute_result"
    }
   ],
   "source": [
    "x_test, y_test"
   ]
  },
  {
   "cell_type": "code",
   "execution_count": 12,
   "metadata": {},
   "outputs": [
    {
     "data": {
      "text/plain": [
       "tensor([[0.3982],\n",
       "        [0.4049],\n",
       "        [0.4116],\n",
       "        [0.4184],\n",
       "        [0.4251],\n",
       "        [0.4318],\n",
       "        [0.4386],\n",
       "        [0.4453],\n",
       "        [0.4520],\n",
       "        [0.4588]])"
      ]
     },
     "execution_count": 12,
     "metadata": {},
     "output_type": "execute_result"
    }
   ],
   "source": [
    "# Making prediction\n",
    "with torch.inference_mode(): \n",
    "    y_preds = model_0(x_test)\n",
    "\n",
    "# with torch.no_grad(): \n",
    "#     y_preds = model_0(x_test)\n",
    "y_preds\n"
   ]
  },
  {
   "cell_type": "code",
   "execution_count": 13,
   "metadata": {},
   "outputs": [
    {
     "data": {
      "image/png": "[encoded data removed]",
      "text/plain": [
       "<Figure size 1000x700 with 1 Axes>"
      ]
     },
     "metadata": {},
     "output_type": "display_data"
    }
   ],
   "source": [
    "plot_prediction(predictions=y_preds)"
   ]
  },
  {
   "attachments": {},
   "cell_type": "markdown",
   "metadata": {},
   "source": [
    "# Training Model"
   ]
  },
  {
   "cell_type": "code",
   "execution_count": 14,
   "metadata": {},
   "outputs": [],
   "source": [
    "# Set up a loss function\n",
    "loss_fn = nn.L1Loss() # Mean Absolute Error\n",
    "\n",
    "# Set up an optimizer Stochastic Gradient Descent\n",
    "optimizer = torch.optim.SGD(params = model_0.parameters(),\n",
    "                            lr=0.001)\n"
   ]
  },
  {
   "attachments": {},
   "cell_type": "markdown",
   "metadata": {},
   "source": [
    "## Building train and test loop\n",
    "\n",
    "1. Looping through data\n",
    "2. Forward Pass\n",
    "3. Calculate the loss\n",
    "4. optimizer zero grad\n",
    "5. loss backward\n",
    "6. optimizer step"
   ]
  },
  {
   "cell_type": "code",
   "execution_count": 15,
   "metadata": {},
   "outputs": [
    {
     "data": {
      "text/plain": [
       "OrderedDict([('weights', tensor([0.3367])), ('bias', tensor([0.1288]))])"
      ]
     },
     "execution_count": 15,
     "metadata": {},
     "output_type": "execute_result"
    }
   ],
   "source": [
    "# Before the epoch see the params\n",
    "model_0.state_dict()"
   ]
  },
  {
   "cell_type": "code",
   "execution_count": 16,
   "metadata": {},
   "outputs": [
    {
     "name": "stdout",
     "output_type": "stream",
     "text": [
      "Epoch: 0 | Loss: 88.73988342285156 | Test Loss: 138.5701904296875 \n",
      "Epoch: 10 | Loss: 88.72835540771484 | Test Loss: 138.55673217773438 \n",
      "Epoch: 20 | Loss: 88.71684265136719 | Test Loss: 138.54324340820312 \n",
      "Epoch: 30 | Loss: 88.705322265625 | Test Loss: 138.52975463867188 \n",
      "Epoch: 40 | Loss: 88.69380187988281 | Test Loss: 138.5163116455078 \n",
      "Epoch: 50 | Loss: 88.6822738647461 | Test Loss: 138.50283813476562 \n",
      "Epoch: 60 | Loss: 88.6707534790039 | Test Loss: 138.48934936523438 \n",
      "Epoch: 70 | Loss: 88.65923309326172 | Test Loss: 138.47589111328125 \n",
      "Epoch: 80 | Loss: 88.64771270751953 | Test Loss: 138.46241760253906 \n",
      "Epoch: 90 | Loss: 88.63619232177734 | Test Loss: 138.4489288330078 \n",
      "Epoch: 100 | Loss: 88.62467193603516 | Test Loss: 138.43548583984375 \n",
      "Epoch: 110 | Loss: 88.61314392089844 | Test Loss: 138.42202758789062 \n",
      "Epoch: 120 | Loss: 88.60163879394531 | Test Loss: 138.4085235595703 \n",
      "Epoch: 130 | Loss: 88.59010314941406 | Test Loss: 138.3950653076172 \n",
      "Epoch: 140 | Loss: 88.5785903930664 | Test Loss: 138.38160705566406 \n",
      "Epoch: 150 | Loss: 88.56706237792969 | Test Loss: 138.36813354492188 \n",
      "Epoch: 160 | Loss: 88.5555419921875 | Test Loss: 138.3546600341797 \n",
      "Epoch: 170 | Loss: 88.54402160644531 | Test Loss: 138.3411865234375 \n",
      "Epoch: 180 | Loss: 88.53250122070312 | Test Loss: 138.3277130126953 \n",
      "Epoch: 190 | Loss: 88.52098083496094 | Test Loss: 138.31423950195312 \n",
      "Epoch: 200 | Loss: 88.50946044921875 | Test Loss: 138.30078125 \n",
      "Epoch: 210 | Loss: 88.49794006347656 | Test Loss: 138.2873077392578 \n",
      "Epoch: 220 | Loss: 88.48641967773438 | Test Loss: 138.27383422851562 \n",
      "Epoch: 230 | Loss: 88.47489929199219 | Test Loss: 138.26036071777344 \n",
      "Epoch: 240 | Loss: 88.46337890625 | Test Loss: 138.24688720703125 \n",
      "Epoch: 250 | Loss: 88.45185852050781 | Test Loss: 138.23341369628906 \n",
      "Epoch: 260 | Loss: 88.44033813476562 | Test Loss: 138.21994018554688 \n",
      "Epoch: 270 | Loss: 88.4288101196289 | Test Loss: 138.2064666748047 \n",
      "Epoch: 280 | Loss: 88.41729736328125 | Test Loss: 138.1929931640625 \n",
      "Epoch: 290 | Loss: 88.40577697753906 | Test Loss: 138.17953491210938 \n",
      "Epoch: 300 | Loss: 88.39425659179688 | Test Loss: 138.16604614257812 \n",
      "Epoch: 310 | Loss: 88.38273620605469 | Test Loss: 138.152587890625 \n",
      "Epoch: 320 | Loss: 88.3712158203125 | Test Loss: 138.1391143798828 \n",
      "Epoch: 330 | Loss: 88.35969543457031 | Test Loss: 138.1256561279297 \n",
      "Epoch: 340 | Loss: 88.3481674194336 | Test Loss: 138.11219787597656 \n",
      "Epoch: 350 | Loss: 88.33665466308594 | Test Loss: 138.0987091064453 \n",
      "Epoch: 360 | Loss: 88.32514190673828 | Test Loss: 138.08523559570312 \n",
      "Epoch: 370 | Loss: 88.31360626220703 | Test Loss: 138.07177734375 \n",
      "Epoch: 380 | Loss: 88.30208587646484 | Test Loss: 138.0583038330078 \n",
      "Epoch: 390 | Loss: 88.29056549072266 | Test Loss: 138.04483032226562 \n",
      "Epoch: 400 | Loss: 88.27903747558594 | Test Loss: 138.03135681152344 \n",
      "Epoch: 410 | Loss: 88.26752471923828 | Test Loss: 138.01788330078125 \n",
      "Epoch: 420 | Loss: 88.2560043334961 | Test Loss: 138.00440979003906 \n",
      "Epoch: 430 | Loss: 88.2444839477539 | Test Loss: 137.99093627929688 \n",
      "Epoch: 440 | Loss: 88.23296356201172 | Test Loss: 137.97744750976562 \n",
      "Epoch: 450 | Loss: 88.22145080566406 | Test Loss: 137.9639892578125 \n",
      "Epoch: 460 | Loss: 88.20992279052734 | Test Loss: 137.95053100585938 \n",
      "Epoch: 470 | Loss: 88.19840240478516 | Test Loss: 137.93704223632812 \n",
      "Epoch: 480 | Loss: 88.18687438964844 | Test Loss: 137.923583984375 \n",
      "Epoch: 490 | Loss: 88.17536163330078 | Test Loss: 137.9101104736328 \n",
      "Epoch: 500 | Loss: 88.1638412475586 | Test Loss: 137.8966522216797 \n",
      "Epoch: 510 | Loss: 88.15230560302734 | Test Loss: 137.8831787109375 \n",
      "Epoch: 520 | Loss: 88.14079284667969 | Test Loss: 137.8697052001953 \n",
      "Epoch: 530 | Loss: 88.12928009033203 | Test Loss: 137.8562469482422 \n",
      "Epoch: 540 | Loss: 88.11775207519531 | Test Loss: 137.84275817871094 \n",
      "Epoch: 550 | Loss: 88.1062240600586 | Test Loss: 137.82928466796875 \n",
      "Epoch: 560 | Loss: 88.09471130371094 | Test Loss: 137.8158416748047 \n",
      "Epoch: 570 | Loss: 88.08318328857422 | Test Loss: 137.80235290527344 \n",
      "Epoch: 580 | Loss: 88.07167053222656 | Test Loss: 137.78887939453125 \n",
      "Epoch: 590 | Loss: 88.06015014648438 | Test Loss: 137.77542114257812 \n",
      "Epoch: 600 | Loss: 88.04862976074219 | Test Loss: 137.76193237304688 \n",
      "Epoch: 610 | Loss: 88.037109375 | Test Loss: 137.7484588623047 \n",
      "Epoch: 620 | Loss: 88.02558898925781 | Test Loss: 137.73501586914062 \n",
      "Epoch: 630 | Loss: 88.01406860351562 | Test Loss: 137.72152709960938 \n",
      "Epoch: 640 | Loss: 88.00254821777344 | Test Loss: 137.7080535888672 \n",
      "Epoch: 650 | Loss: 87.99102783203125 | Test Loss: 137.694580078125 \n",
      "Epoch: 660 | Loss: 87.97950744628906 | Test Loss: 137.6811065673828 \n",
      "Epoch: 670 | Loss: 87.96798706054688 | Test Loss: 137.66763305664062 \n",
      "Epoch: 680 | Loss: 87.95645904541016 | Test Loss: 137.6541748046875 \n",
      "Epoch: 690 | Loss: 87.94493865966797 | Test Loss: 137.6407012939453 \n",
      "Epoch: 700 | Loss: 87.93342590332031 | Test Loss: 137.62721252441406 \n",
      "Epoch: 710 | Loss: 87.92190551757812 | Test Loss: 137.61375427246094 \n",
      "Epoch: 720 | Loss: 87.9103775024414 | Test Loss: 137.6002960205078 \n",
      "Epoch: 730 | Loss: 87.89885711669922 | Test Loss: 137.58682250976562 \n",
      "Epoch: 740 | Loss: 87.88734436035156 | Test Loss: 137.57333374023438 \n",
      "Epoch: 750 | Loss: 87.87580871582031 | Test Loss: 137.5598907470703 \n",
      "Epoch: 760 | Loss: 87.86428833007812 | Test Loss: 137.54640197753906 \n",
      "Epoch: 770 | Loss: 87.85276794433594 | Test Loss: 137.53292846679688 \n",
      "Epoch: 780 | Loss: 87.84125518798828 | Test Loss: 137.51947021484375 \n",
      "Epoch: 790 | Loss: 87.8297348022461 | Test Loss: 137.50599670410156 \n",
      "Epoch: 800 | Loss: 87.8182144165039 | Test Loss: 137.49252319335938 \n",
      "Epoch: 810 | Loss: 87.80668640136719 | Test Loss: 137.47906494140625 \n",
      "Epoch: 820 | Loss: 87.79517364501953 | Test Loss: 137.46559143066406 \n",
      "Epoch: 830 | Loss: 87.78364562988281 | Test Loss: 137.4521026611328 \n",
      "Epoch: 840 | Loss: 87.77212524414062 | Test Loss: 137.43862915039062 \n",
      "Epoch: 850 | Loss: 87.76060485839844 | Test Loss: 137.4251708984375 \n",
      "Epoch: 860 | Loss: 87.74909210205078 | Test Loss: 137.4116973876953 \n",
      "Epoch: 870 | Loss: 87.73756408691406 | Test Loss: 137.39822387695312 \n",
      "Epoch: 880 | Loss: 87.72604370117188 | Test Loss: 137.38475036621094 \n",
      "Epoch: 890 | Loss: 87.71452331542969 | Test Loss: 137.37127685546875 \n",
      "Epoch: 900 | Loss: 87.7030029296875 | Test Loss: 137.35780334472656 \n",
      "Epoch: 910 | Loss: 87.69148254394531 | Test Loss: 137.34432983398438 \n",
      "Epoch: 920 | Loss: 87.67994689941406 | Test Loss: 137.3308868408203 \n",
      "Epoch: 930 | Loss: 87.6684341430664 | Test Loss: 137.3173828125 \n",
      "Epoch: 940 | Loss: 87.65692138671875 | Test Loss: 137.30392456054688 \n",
      "Epoch: 950 | Loss: 87.64540100097656 | Test Loss: 137.2904510498047 \n",
      "Epoch: 960 | Loss: 87.63387298583984 | Test Loss: 137.27699279785156 \n",
      "Epoch: 970 | Loss: 87.62236022949219 | Test Loss: 137.26351928710938 \n",
      "Epoch: 980 | Loss: 87.61083221435547 | Test Loss: 137.25003051757812 \n",
      "Epoch: 990 | Loss: 87.59931945800781 | Test Loss: 137.236572265625 \n",
      "Epoch: 1000 | Loss: 87.58778381347656 | Test Loss: 137.2230987548828 \n",
      "Epoch: 1010 | Loss: 87.5762710571289 | Test Loss: 137.20962524414062 \n",
      "Epoch: 1020 | Loss: 87.56474304199219 | Test Loss: 137.19615173339844 \n",
      "Epoch: 1030 | Loss: 87.55321502685547 | Test Loss: 137.18267822265625 \n",
      "Epoch: 1040 | Loss: 87.54170227050781 | Test Loss: 137.16921997070312 \n",
      "Epoch: 1050 | Loss: 87.53018188476562 | Test Loss: 137.15573120117188 \n",
      "Epoch: 1060 | Loss: 87.51866149902344 | Test Loss: 137.14227294921875 \n",
      "Epoch: 1070 | Loss: 87.50713348388672 | Test Loss: 137.12879943847656 \n",
      "Epoch: 1080 | Loss: 87.49562072753906 | Test Loss: 137.11532592773438 \n",
      "Epoch: 1090 | Loss: 87.48408508300781 | Test Loss: 137.1018524169922 \n",
      "Epoch: 1100 | Loss: 87.47257232666016 | Test Loss: 137.08839416503906 \n",
      "Epoch: 1110 | Loss: 87.46105194091797 | Test Loss: 137.07492065429688 \n",
      "Epoch: 1120 | Loss: 87.44952392578125 | Test Loss: 137.06143188476562 \n",
      "Epoch: 1130 | Loss: 87.43800354003906 | Test Loss: 137.04795837402344 \n",
      "Epoch: 1140 | Loss: 87.42647552490234 | Test Loss: 137.0345001220703 \n",
      "Epoch: 1150 | Loss: 87.41497039794922 | Test Loss: 137.02102661132812 \n",
      "Epoch: 1160 | Loss: 87.40345001220703 | Test Loss: 137.007568359375 \n",
      "Epoch: 1170 | Loss: 87.39192199707031 | Test Loss: 136.99407958984375 \n",
      "Epoch: 1180 | Loss: 87.38040924072266 | Test Loss: 136.98062133789062 \n",
      "Epoch: 1190 | Loss: 87.36888885498047 | Test Loss: 136.96714782714844 \n",
      "Epoch: 1200 | Loss: 87.35736083984375 | Test Loss: 136.9536895751953 \n",
      "Epoch: 1210 | Loss: 87.34584045410156 | Test Loss: 136.94020080566406 \n",
      "Epoch: 1220 | Loss: 87.33432006835938 | Test Loss: 136.92672729492188 \n",
      "Epoch: 1230 | Loss: 87.32279205322266 | Test Loss: 136.9132537841797 \n",
      "Epoch: 1240 | Loss: 87.31127166748047 | Test Loss: 136.8997802734375 \n",
      "Epoch: 1250 | Loss: 87.29975891113281 | Test Loss: 136.88632202148438 \n",
      "Epoch: 1260 | Loss: 87.2882308959961 | Test Loss: 136.8728485107422 \n",
      "Epoch: 1270 | Loss: 87.27670288085938 | Test Loss: 136.85935974121094 \n",
      "Epoch: 1280 | Loss: 87.26518249511719 | Test Loss: 136.8459014892578 \n",
      "Epoch: 1290 | Loss: 87.253662109375 | Test Loss: 136.83242797851562 \n",
      "Epoch: 1300 | Loss: 87.24214172363281 | Test Loss: 136.81895446777344 \n",
      "Epoch: 1310 | Loss: 87.23062133789062 | Test Loss: 136.80548095703125 \n",
      "Epoch: 1320 | Loss: 87.2190933227539 | Test Loss: 136.79200744628906 \n",
      "Epoch: 1330 | Loss: 87.20758056640625 | Test Loss: 136.77853393554688 \n",
      "Epoch: 1340 | Loss: 87.19606018066406 | Test Loss: 136.7650604248047 \n",
      "Epoch: 1350 | Loss: 87.18453216552734 | Test Loss: 136.75160217285156 \n",
      "Epoch: 1360 | Loss: 87.17301177978516 | Test Loss: 136.73812866210938 \n",
      "Epoch: 1370 | Loss: 87.16149139404297 | Test Loss: 136.7246551513672 \n",
      "Epoch: 1380 | Loss: 87.14997863769531 | Test Loss: 136.711181640625 \n",
      "Epoch: 1390 | Loss: 87.1384506225586 | Test Loss: 136.69772338867188 \n",
      "Epoch: 1400 | Loss: 87.12693786621094 | Test Loss: 136.68423461914062 \n",
      "Epoch: 1410 | Loss: 87.11540222167969 | Test Loss: 136.6707763671875 \n",
      "Epoch: 1420 | Loss: 87.10388946533203 | Test Loss: 136.65731811523438 \n",
      "Epoch: 1430 | Loss: 87.09236907958984 | Test Loss: 136.64382934570312 \n",
      "Epoch: 1440 | Loss: 87.08084869384766 | Test Loss: 136.63035583496094 \n",
      "Epoch: 1450 | Loss: 87.06932067871094 | Test Loss: 136.6168975830078 \n",
      "Epoch: 1460 | Loss: 87.05780029296875 | Test Loss: 136.60342407226562 \n",
      "Epoch: 1470 | Loss: 87.04627990722656 | Test Loss: 136.58993530273438 \n",
      "Epoch: 1480 | Loss: 87.03475952148438 | Test Loss: 136.57647705078125 \n",
      "Epoch: 1490 | Loss: 87.02323913574219 | Test Loss: 136.56298828125 \n",
      "Epoch: 1500 | Loss: 87.01171112060547 | Test Loss: 136.54953002929688 \n",
      "Epoch: 1510 | Loss: 87.00019073486328 | Test Loss: 136.5360565185547 \n",
      "Epoch: 1520 | Loss: 86.98867797851562 | Test Loss: 136.5225830078125 \n",
      "Epoch: 1530 | Loss: 86.97715759277344 | Test Loss: 136.5091094970703 \n",
      "Epoch: 1540 | Loss: 86.96562194824219 | Test Loss: 136.49563598632812 \n",
      "Epoch: 1550 | Loss: 86.95410919189453 | Test Loss: 136.482177734375 \n",
      "Epoch: 1560 | Loss: 86.94258117675781 | Test Loss: 136.4687042236328 \n",
      "Epoch: 1570 | Loss: 86.93106079101562 | Test Loss: 136.45523071289062 \n",
      "Epoch: 1580 | Loss: 86.91954040527344 | Test Loss: 136.44175720214844 \n",
      "Epoch: 1590 | Loss: 86.90801239013672 | Test Loss: 136.4282684326172 \n",
      "Epoch: 1600 | Loss: 86.89649963378906 | Test Loss: 136.41482543945312 \n",
      "Epoch: 1610 | Loss: 86.8849868774414 | Test Loss: 136.40133666992188 \n",
      "Epoch: 1620 | Loss: 86.87345886230469 | Test Loss: 136.3878631591797 \n",
      "Epoch: 1630 | Loss: 86.8619384765625 | Test Loss: 136.3743896484375 \n",
      "Epoch: 1640 | Loss: 86.85041809082031 | Test Loss: 136.36094665527344 \n",
      "Epoch: 1650 | Loss: 86.8388900756836 | Test Loss: 136.3474578857422 \n",
      "Epoch: 1660 | Loss: 86.82737731933594 | Test Loss: 136.333984375 \n",
      "Epoch: 1670 | Loss: 86.81584930419922 | Test Loss: 136.32052612304688 \n",
      "Epoch: 1680 | Loss: 86.80432891845703 | Test Loss: 136.30703735351562 \n",
      "Epoch: 1690 | Loss: 86.79280090332031 | Test Loss: 136.29356384277344 \n",
      "Epoch: 1700 | Loss: 86.78128814697266 | Test Loss: 136.28012084960938 \n",
      "Epoch: 1710 | Loss: 86.76976013183594 | Test Loss: 136.26663208007812 \n",
      "Epoch: 1720 | Loss: 86.75823974609375 | Test Loss: 136.25314331054688 \n",
      "Epoch: 1730 | Loss: 86.74671936035156 | Test Loss: 136.23968505859375 \n",
      "Epoch: 1740 | Loss: 86.73519134521484 | Test Loss: 136.22621154785156 \n",
      "Epoch: 1750 | Loss: 86.72367858886719 | Test Loss: 136.21273803710938 \n",
      "Epoch: 1760 | Loss: 86.71215057373047 | Test Loss: 136.1992645263672 \n",
      "Epoch: 1770 | Loss: 86.70063781738281 | Test Loss: 136.18580627441406 \n",
      "Epoch: 1780 | Loss: 86.68911743164062 | Test Loss: 136.1723175048828 \n",
      "Epoch: 1790 | Loss: 86.6775894165039 | Test Loss: 136.1588592529297 \n",
      "Epoch: 1800 | Loss: 86.66606140136719 | Test Loss: 136.1453857421875 \n",
      "Epoch: 1810 | Loss: 86.654541015625 | Test Loss: 136.13189697265625 \n",
      "Epoch: 1820 | Loss: 86.64302062988281 | Test Loss: 136.11843872070312 \n",
      "Epoch: 1830 | Loss: 86.63150024414062 | Test Loss: 136.10498046875 \n",
      "Epoch: 1840 | Loss: 86.61997985839844 | Test Loss: 136.0914764404297 \n",
      "Epoch: 1850 | Loss: 86.60845947265625 | Test Loss: 136.0780029296875 \n",
      "Epoch: 1860 | Loss: 86.59693908691406 | Test Loss: 136.06455993652344 \n",
      "Epoch: 1870 | Loss: 86.58541870117188 | Test Loss: 136.0510711669922 \n",
      "Epoch: 1880 | Loss: 86.57389831542969 | Test Loss: 136.03761291503906 \n",
      "Epoch: 1890 | Loss: 86.5623779296875 | Test Loss: 136.02415466308594 \n",
      "Epoch: 1900 | Loss: 86.55085754394531 | Test Loss: 136.0106658935547 \n",
      "Epoch: 1910 | Loss: 86.5393295288086 | Test Loss: 135.9971923828125 \n",
      "Epoch: 1920 | Loss: 86.52781677246094 | Test Loss: 135.98373413085938 \n",
      "Epoch: 1930 | Loss: 86.51629638671875 | Test Loss: 135.97024536132812 \n",
      "Epoch: 1940 | Loss: 86.50477600097656 | Test Loss: 135.956787109375 \n",
      "Epoch: 1950 | Loss: 86.49325561523438 | Test Loss: 135.9433135986328 \n",
      "Epoch: 1960 | Loss: 86.48172760009766 | Test Loss: 135.92984008789062 \n",
      "Epoch: 1970 | Loss: 86.47021484375 | Test Loss: 135.91636657714844 \n",
      "Epoch: 1980 | Loss: 86.45869445800781 | Test Loss: 135.90289306640625 \n",
      "Epoch: 1990 | Loss: 86.44717407226562 | Test Loss: 135.88943481445312 \n",
      "Epoch: 2000 | Loss: 86.43565368652344 | Test Loss: 135.87594604492188 \n",
      "Epoch: 2010 | Loss: 86.42413330078125 | Test Loss: 135.86248779296875 \n",
      "Epoch: 2020 | Loss: 86.41261291503906 | Test Loss: 135.84902954101562 \n",
      "Epoch: 2030 | Loss: 86.40109252929688 | Test Loss: 135.8355255126953 \n",
      "Epoch: 2040 | Loss: 86.38957214355469 | Test Loss: 135.8220672607422 \n",
      "Epoch: 2050 | Loss: 86.3780517578125 | Test Loss: 135.80862426757812 \n",
      "Epoch: 2060 | Loss: 86.36653137207031 | Test Loss: 135.79513549804688 \n",
      "Epoch: 2070 | Loss: 86.35501098632812 | Test Loss: 135.7816619873047 \n",
      "Epoch: 2080 | Loss: 86.34349060058594 | Test Loss: 135.76820373535156 \n",
      "Epoch: 2090 | Loss: 86.33197021484375 | Test Loss: 135.75473022460938 \n",
      "Epoch: 2100 | Loss: 86.32044982910156 | Test Loss: 135.7412567138672 \n",
      "Epoch: 2110 | Loss: 86.30892181396484 | Test Loss: 135.727783203125 \n",
      "Epoch: 2120 | Loss: 86.29740905761719 | Test Loss: 135.71432495117188 \n",
      "Epoch: 2130 | Loss: 86.28588104248047 | Test Loss: 135.70083618164062 \n",
      "Epoch: 2140 | Loss: 86.27436828613281 | Test Loss: 135.68736267089844 \n",
      "Epoch: 2150 | Loss: 86.2628402709961 | Test Loss: 135.6739044189453 \n",
      "Epoch: 2160 | Loss: 86.25132751464844 | Test Loss: 135.66043090820312 \n",
      "Epoch: 2170 | Loss: 86.23979949951172 | Test Loss: 135.64694213867188 \n",
      "Epoch: 2180 | Loss: 86.22828674316406 | Test Loss: 135.63348388671875 \n",
      "Epoch: 2190 | Loss: 86.21675872802734 | Test Loss: 135.62002563476562 \n",
      "Epoch: 2200 | Loss: 86.20524597167969 | Test Loss: 135.60653686523438 \n",
      "Epoch: 2210 | Loss: 86.19371795654297 | Test Loss: 135.5930633544922 \n",
      "Epoch: 2220 | Loss: 86.18220520019531 | Test Loss: 135.57960510253906 \n",
      "Epoch: 2230 | Loss: 86.1706771850586 | Test Loss: 135.56613159179688 \n",
      "Epoch: 2240 | Loss: 86.1591567993164 | Test Loss: 135.5526580810547 \n",
      "Epoch: 2250 | Loss: 86.14763641357422 | Test Loss: 135.5391845703125 \n",
      "Epoch: 2260 | Loss: 86.1361083984375 | Test Loss: 135.5257110595703 \n",
      "Epoch: 2270 | Loss: 86.12459564208984 | Test Loss: 135.5122528076172 \n",
      "Epoch: 2280 | Loss: 86.11307525634766 | Test Loss: 135.49879455566406 \n",
      "Epoch: 2290 | Loss: 86.1015625 | Test Loss: 135.4853057861328 \n",
      "Epoch: 2300 | Loss: 86.09004211425781 | Test Loss: 135.47183227539062 \n",
      "Epoch: 2310 | Loss: 86.07852172851562 | Test Loss: 135.45835876464844 \n",
      "Epoch: 2320 | Loss: 86.0669937133789 | Test Loss: 135.4449005126953 \n",
      "Epoch: 2330 | Loss: 86.05547332763672 | Test Loss: 135.43142700195312 \n",
      "Epoch: 2340 | Loss: 86.04396057128906 | Test Loss: 135.41795349121094 \n",
      "Epoch: 2350 | Loss: 86.03244018554688 | Test Loss: 135.40447998046875 \n",
      "Epoch: 2360 | Loss: 86.02091217041016 | Test Loss: 135.39100646972656 \n",
      "Epoch: 2370 | Loss: 86.0093994140625 | Test Loss: 135.37753295898438 \n",
      "Epoch: 2380 | Loss: 85.99787139892578 | Test Loss: 135.3640594482422 \n",
      "Epoch: 2390 | Loss: 85.9863510131836 | Test Loss: 135.35060119628906 \n",
      "Epoch: 2400 | Loss: 85.9748306274414 | Test Loss: 135.33712768554688 \n",
      "Epoch: 2410 | Loss: 85.96330261230469 | Test Loss: 135.3236541748047 \n",
      "Epoch: 2420 | Loss: 85.95179748535156 | Test Loss: 135.3101806640625 \n",
      "Epoch: 2430 | Loss: 85.9402847290039 | Test Loss: 135.29672241210938 \n",
      "Epoch: 2440 | Loss: 85.92874908447266 | Test Loss: 135.2832489013672 \n",
      "Epoch: 2450 | Loss: 85.91722106933594 | Test Loss: 135.269775390625 \n",
      "Epoch: 2460 | Loss: 85.90571594238281 | Test Loss: 135.2563018798828 \n",
      "Epoch: 2470 | Loss: 85.8941879272461 | Test Loss: 135.2428436279297 \n",
      "Epoch: 2480 | Loss: 85.8826675415039 | Test Loss: 135.22935485839844 \n",
      "Epoch: 2490 | Loss: 85.87114715576172 | Test Loss: 135.21588134765625 \n",
      "Epoch: 2500 | Loss: 85.85963439941406 | Test Loss: 135.20242309570312 \n",
      "Epoch: 2510 | Loss: 85.84810638427734 | Test Loss: 135.18894958496094 \n",
      "Epoch: 2520 | Loss: 85.83658599853516 | Test Loss: 135.17547607421875 \n",
      "Epoch: 2530 | Loss: 85.82505798339844 | Test Loss: 135.16201782226562 \n",
      "Epoch: 2540 | Loss: 85.81354522705078 | Test Loss: 135.14852905273438 \n",
      "Epoch: 2550 | Loss: 85.8020248413086 | Test Loss: 135.13507080078125 \n",
      "Epoch: 2560 | Loss: 85.7905044555664 | Test Loss: 135.12159729003906 \n",
      "Epoch: 2570 | Loss: 85.77897644042969 | Test Loss: 135.10812377929688 \n",
      "Epoch: 2580 | Loss: 85.7674560546875 | Test Loss: 135.09463500976562 \n",
      "Epoch: 2590 | Loss: 85.75593566894531 | Test Loss: 135.0811767578125 \n",
      "Epoch: 2600 | Loss: 85.74443054199219 | Test Loss: 135.06771850585938 \n",
      "Epoch: 2610 | Loss: 85.73290252685547 | Test Loss: 135.05422973632812 \n",
      "Epoch: 2620 | Loss: 85.72138214111328 | Test Loss: 135.040771484375 \n",
      "Epoch: 2630 | Loss: 85.7098617553711 | Test Loss: 135.0272979736328 \n",
      "Epoch: 2640 | Loss: 85.6983413696289 | Test Loss: 135.01382446289062 \n",
      "Epoch: 2650 | Loss: 85.68682098388672 | Test Loss: 135.0003662109375 \n",
      "Epoch: 2660 | Loss: 85.67530059814453 | Test Loss: 134.9868927001953 \n",
      "Epoch: 2670 | Loss: 85.66378021240234 | Test Loss: 134.97341918945312 \n",
      "Epoch: 2680 | Loss: 85.65225219726562 | Test Loss: 134.95994567871094 \n",
      "Epoch: 2690 | Loss: 85.64073181152344 | Test Loss: 134.9464874267578 \n",
      "Epoch: 2700 | Loss: 85.62921905517578 | Test Loss: 134.93301391601562 \n",
      "Epoch: 2710 | Loss: 85.6176986694336 | Test Loss: 134.91952514648438 \n",
      "Epoch: 2720 | Loss: 85.60617065429688 | Test Loss: 134.90606689453125 \n",
      "Epoch: 2730 | Loss: 85.59466552734375 | Test Loss: 134.89260864257812 \n",
      "Epoch: 2740 | Loss: 85.58313751220703 | Test Loss: 134.87911987304688 \n",
      "Epoch: 2750 | Loss: 85.57160949707031 | Test Loss: 134.86566162109375 \n",
      "Epoch: 2760 | Loss: 85.56010437011719 | Test Loss: 134.85218811035156 \n",
      "Epoch: 2770 | Loss: 85.54856872558594 | Test Loss: 134.83871459960938 \n",
      "Epoch: 2780 | Loss: 85.53706359863281 | Test Loss: 134.82522583007812 \n",
      "Epoch: 2790 | Loss: 85.5255355834961 | Test Loss: 134.811767578125 \n",
      "Epoch: 2800 | Loss: 85.5140151977539 | Test Loss: 134.7982940673828 \n",
      "Epoch: 2810 | Loss: 85.50248718261719 | Test Loss: 134.78482055664062 \n",
      "Epoch: 2820 | Loss: 85.49098205566406 | Test Loss: 134.77134704589844 \n",
      "Epoch: 2830 | Loss: 85.47944641113281 | Test Loss: 134.7578887939453 \n",
      "Epoch: 2840 | Loss: 85.46793365478516 | Test Loss: 134.74441528320312 \n",
      "Epoch: 2850 | Loss: 85.45641326904297 | Test Loss: 134.73095703125 \n",
      "Epoch: 2860 | Loss: 85.44490051269531 | Test Loss: 134.7174835205078 \n",
      "Epoch: 2870 | Loss: 85.43336486816406 | Test Loss: 134.70401000976562 \n",
      "Epoch: 2880 | Loss: 85.42183685302734 | Test Loss: 134.69053649902344 \n",
      "Epoch: 2890 | Loss: 85.41033172607422 | Test Loss: 134.6770782470703 \n",
      "Epoch: 2900 | Loss: 85.39881896972656 | Test Loss: 134.66358947753906 \n",
      "Epoch: 2910 | Loss: 85.38728332519531 | Test Loss: 134.65011596679688 \n",
      "Epoch: 2920 | Loss: 85.37577056884766 | Test Loss: 134.63665771484375 \n",
      "Epoch: 2930 | Loss: 85.36425018310547 | Test Loss: 134.6231689453125 \n",
      "Epoch: 2940 | Loss: 85.35272216796875 | Test Loss: 134.60971069335938 \n",
      "Epoch: 2950 | Loss: 85.34120178222656 | Test Loss: 134.5962371826172 \n",
      "Epoch: 2960 | Loss: 85.32968139648438 | Test Loss: 134.58277893066406 \n",
      "Epoch: 2970 | Loss: 85.31816101074219 | Test Loss: 134.5692901611328 \n",
      "Epoch: 2980 | Loss: 85.306640625 | Test Loss: 134.5558319091797 \n",
      "Epoch: 2990 | Loss: 85.29512023925781 | Test Loss: 134.54234313964844 \n",
      "Epoch: 3000 | Loss: 85.28359985351562 | Test Loss: 134.5288848876953 \n",
      "Epoch: 3010 | Loss: 85.27207946777344 | Test Loss: 134.51541137695312 \n",
      "Epoch: 3020 | Loss: 85.26056671142578 | Test Loss: 134.50193786621094 \n",
      "Epoch: 3030 | Loss: 85.2490463256836 | Test Loss: 134.4884796142578 \n",
      "Epoch: 3040 | Loss: 85.2375259399414 | Test Loss: 134.47500610351562 \n",
      "Epoch: 3050 | Loss: 85.22599792480469 | Test Loss: 134.46151733398438 \n",
      "Epoch: 3060 | Loss: 85.21448516845703 | Test Loss: 134.44805908203125 \n",
      "Epoch: 3070 | Loss: 85.20296478271484 | Test Loss: 134.43458557128906 \n",
      "Epoch: 3080 | Loss: 85.19144439697266 | Test Loss: 134.42112731933594 \n",
      "Epoch: 3090 | Loss: 85.17991638183594 | Test Loss: 134.4076385498047 \n",
      "Epoch: 3100 | Loss: 85.16839599609375 | Test Loss: 134.3941650390625 \n",
      "Epoch: 3110 | Loss: 85.15687561035156 | Test Loss: 134.38070678710938 \n",
      "Epoch: 3120 | Loss: 85.1453628540039 | Test Loss: 134.3672332763672 \n",
      "Epoch: 3130 | Loss: 85.13383483886719 | Test Loss: 134.353759765625 \n",
      "Epoch: 3140 | Loss: 85.12232208251953 | Test Loss: 134.34030151367188 \n",
      "Epoch: 3150 | Loss: 85.11079406738281 | Test Loss: 134.32681274414062 \n",
      "Epoch: 3160 | Loss: 85.09927368164062 | Test Loss: 134.3133544921875 \n",
      "Epoch: 3170 | Loss: 85.08775329589844 | Test Loss: 134.2998809814453 \n",
      "Epoch: 3180 | Loss: 85.07622528076172 | Test Loss: 134.28640747070312 \n",
      "Epoch: 3190 | Loss: 85.06471252441406 | Test Loss: 134.27291870117188 \n",
      "Epoch: 3200 | Loss: 85.0531997680664 | Test Loss: 134.2594757080078 \n",
      "Epoch: 3210 | Loss: 85.04167175292969 | Test Loss: 134.24598693847656 \n",
      "Epoch: 3220 | Loss: 85.0301513671875 | Test Loss: 134.23251342773438 \n",
      "Epoch: 3230 | Loss: 85.01863098144531 | Test Loss: 134.2190704345703 \n",
      "Epoch: 3240 | Loss: 85.0071029663086 | Test Loss: 134.20559692382812 \n",
      "Epoch: 3250 | Loss: 84.99559020996094 | Test Loss: 134.19210815429688 \n",
      "Epoch: 3260 | Loss: 84.98407745361328 | Test Loss: 134.17864990234375 \n",
      "Epoch: 3270 | Loss: 84.97254943847656 | Test Loss: 134.16519165039062 \n",
      "Epoch: 3280 | Loss: 84.96102142333984 | Test Loss: 134.15170288085938 \n",
      "Epoch: 3290 | Loss: 84.94950866699219 | Test Loss: 134.1382293701172 \n",
      "Epoch: 3300 | Loss: 84.93798065185547 | Test Loss: 134.124755859375 \n",
      "Epoch: 3310 | Loss: 84.92646789550781 | Test Loss: 134.11129760742188 \n",
      "Epoch: 3320 | Loss: 84.91494750976562 | Test Loss: 134.09780883789062 \n",
      "Epoch: 3330 | Loss: 84.90342712402344 | Test Loss: 134.0843505859375 \n",
      "Epoch: 3340 | Loss: 84.89190673828125 | Test Loss: 134.07089233398438 \n",
      "Epoch: 3350 | Loss: 84.8803939819336 | Test Loss: 134.05740356445312 \n",
      "Epoch: 3360 | Loss: 84.86886596679688 | Test Loss: 134.04393005371094 \n",
      "Epoch: 3370 | Loss: 84.85734558105469 | Test Loss: 134.0304718017578 \n",
      "Epoch: 3380 | Loss: 84.8458251953125 | Test Loss: 134.01699829101562 \n",
      "Epoch: 3390 | Loss: 84.83430480957031 | Test Loss: 134.00350952148438 \n",
      "Epoch: 3400 | Loss: 84.82278442382812 | Test Loss: 133.99005126953125 \n",
      "Epoch: 3410 | Loss: 84.81126403808594 | Test Loss: 133.97659301757812 \n",
      "Epoch: 3420 | Loss: 84.79974365234375 | Test Loss: 133.96310424804688 \n",
      "Epoch: 3430 | Loss: 84.78822326660156 | Test Loss: 133.9496307373047 \n",
      "Epoch: 3440 | Loss: 84.7767105102539 | Test Loss: 133.93618774414062 \n",
      "Epoch: 3450 | Loss: 84.76518249511719 | Test Loss: 133.9226837158203 \n",
      "Epoch: 3460 | Loss: 84.753662109375 | Test Loss: 133.90924072265625 \n",
      "Epoch: 3470 | Loss: 84.74214172363281 | Test Loss: 133.89578247070312 \n",
      "Epoch: 3480 | Loss: 84.73062133789062 | Test Loss: 133.88229370117188 \n",
      "Epoch: 3490 | Loss: 84.71910095214844 | Test Loss: 133.8688201904297 \n",
      "Epoch: 3500 | Loss: 84.70758056640625 | Test Loss: 133.85536193847656 \n",
      "Epoch: 3510 | Loss: 84.69606018066406 | Test Loss: 133.8418731689453 \n",
      "Epoch: 3520 | Loss: 84.6845474243164 | Test Loss: 133.82839965820312 \n",
      "Epoch: 3530 | Loss: 84.67301940917969 | Test Loss: 133.81494140625 \n",
      "Epoch: 3540 | Loss: 84.6614990234375 | Test Loss: 133.80145263671875 \n",
      "Epoch: 3550 | Loss: 84.64997863769531 | Test Loss: 133.78799438476562 \n",
      "Epoch: 3560 | Loss: 84.63845825195312 | Test Loss: 133.77452087402344 \n",
      "Epoch: 3570 | Loss: 84.62693786621094 | Test Loss: 133.7610626220703 \n",
      "Epoch: 3580 | Loss: 84.61540985107422 | Test Loss: 133.74757385253906 \n",
      "Epoch: 3590 | Loss: 84.60389709472656 | Test Loss: 133.73411560058594 \n",
      "Epoch: 3600 | Loss: 84.59236907958984 | Test Loss: 133.7206268310547 \n",
      "Epoch: 3610 | Loss: 84.58085632324219 | Test Loss: 133.70716857910156 \n",
      "Epoch: 3620 | Loss: 84.56932830810547 | Test Loss: 133.69369506835938 \n",
      "Epoch: 3630 | Loss: 84.55781555175781 | Test Loss: 133.6802215576172 \n",
      "Epoch: 3640 | Loss: 84.5462875366211 | Test Loss: 133.666748046875 \n",
      "Epoch: 3650 | Loss: 84.53477478027344 | Test Loss: 133.65328979492188 \n",
      "Epoch: 3660 | Loss: 84.52325439453125 | Test Loss: 133.6398162841797 \n",
      "Epoch: 3670 | Loss: 84.51173400878906 | Test Loss: 133.6263427734375 \n",
      "Epoch: 3680 | Loss: 84.50021362304688 | Test Loss: 133.6128692626953 \n",
      "Epoch: 3690 | Loss: 84.48868560791016 | Test Loss: 133.5994110107422 \n",
      "Epoch: 3700 | Loss: 84.4771728515625 | Test Loss: 133.58592224121094 \n",
      "Epoch: 3710 | Loss: 84.46565246582031 | Test Loss: 133.5724639892578 \n",
      "Epoch: 3720 | Loss: 84.45413208007812 | Test Loss: 133.55899047851562 \n",
      "Epoch: 3730 | Loss: 84.4426040649414 | Test Loss: 133.54551696777344 \n",
      "Epoch: 3740 | Loss: 84.43109130859375 | Test Loss: 133.53204345703125 \n",
      "Epoch: 3750 | Loss: 84.41956329345703 | Test Loss: 133.51858520507812 \n",
      "Epoch: 3760 | Loss: 84.40804290771484 | Test Loss: 133.50511169433594 \n",
      "Epoch: 3770 | Loss: 84.39652252197266 | Test Loss: 133.4916229248047 \n",
      "Epoch: 3780 | Loss: 84.38500213623047 | Test Loss: 133.47816467285156 \n",
      "Epoch: 3790 | Loss: 84.37348175048828 | Test Loss: 133.46469116210938 \n",
      "Epoch: 3800 | Loss: 84.36196899414062 | Test Loss: 133.4512176513672 \n",
      "Epoch: 3810 | Loss: 84.35044860839844 | Test Loss: 133.437744140625 \n",
      "Epoch: 3820 | Loss: 84.33892822265625 | Test Loss: 133.42428588867188 \n",
      "Epoch: 3830 | Loss: 84.32740783691406 | Test Loss: 133.4108123779297 \n",
      "Epoch: 3840 | Loss: 84.31587982177734 | Test Loss: 133.3973388671875 \n",
      "Epoch: 3850 | Loss: 84.30436706542969 | Test Loss: 133.3838653564453 \n",
      "Epoch: 3860 | Loss: 84.29283142089844 | Test Loss: 133.37039184570312 \n",
      "Epoch: 3870 | Loss: 84.28132629394531 | Test Loss: 133.35693359375 \n",
      "Epoch: 3880 | Loss: 84.2697982788086 | Test Loss: 133.34347534179688 \n",
      "Epoch: 3890 | Loss: 84.25828552246094 | Test Loss: 133.32998657226562 \n",
      "Epoch: 3900 | Loss: 84.24674987792969 | Test Loss: 133.31651306152344 \n",
      "Epoch: 3910 | Loss: 84.23523712158203 | Test Loss: 133.3030548095703 \n",
      "Epoch: 3920 | Loss: 84.22371673583984 | Test Loss: 133.28958129882812 \n",
      "Epoch: 3930 | Loss: 84.21220397949219 | Test Loss: 133.27609252929688 \n",
      "Epoch: 3940 | Loss: 84.20068359375 | Test Loss: 133.26263427734375 \n",
      "Epoch: 3950 | Loss: 84.18916320800781 | Test Loss: 133.24917602539062 \n",
      "Epoch: 3960 | Loss: 84.1776351928711 | Test Loss: 133.23568725585938 \n",
      "Epoch: 3970 | Loss: 84.16612243652344 | Test Loss: 133.2222137451172 \n",
      "Epoch: 3980 | Loss: 84.15459442138672 | Test Loss: 133.20875549316406 \n",
      "Epoch: 3990 | Loss: 84.14308166503906 | Test Loss: 133.19528198242188 \n"
     ]
    }
   ],
   "source": [
    "torch.manual_seed(42)\n",
    "\n",
    "epoch_count = []\n",
    "loss_value = []\n",
    "test_loss_value = []\n",
    "\n",
    "epochs = 4000\n",
    "\n",
    "for epoch in range(epochs):\n",
    "    # Set the model to training mode\n",
    "    model_0.train()\n",
    "\n",
    "\n",
    "    # 1. Forward pass\n",
    "    y_preds = model_0(x_train)\n",
    "\n",
    "    #2. Loss caluculation\n",
    "    loss = loss_fn(y_preds, y_train)\n",
    "\n",
    "    #3 . optimizer zero grad\n",
    "    optimizer.zero_grad()\n",
    "\n",
    "    # 4. Backprop on the loss with respect to the parameters of the model\n",
    "    loss.backward()\n",
    "\n",
    "    # 5. step the optimizer (perform gradient descent)\n",
    "    optimizer.step()\n",
    "\n",
    "    model_0.eval() # turns off gradaient tracking\n",
    "\n",
    "    with torch.inference_mode():\n",
    "        test_pred = model_0(x_test)\n",
    "\n",
    "        test_loss = loss_fn(test_pred,y_test)\n",
    "\n",
    "\n",
    "    if epoch % 10 == 0:\n",
    "        epoch_count.append(epoch)\n",
    "        loss_value.append(loss)\n",
    "        test_loss_value.append(test_loss)\n",
    "        print(f\"Epoch: {epoch} | Loss: {loss} | Test Loss: {test_loss} \")\n",
    "\n",
    "    "
   ]
  },
  {
   "cell_type": "code",
   "execution_count": 17,
   "metadata": {},
   "outputs": [
    {
     "data": {
      "text/plain": [
       "OrderedDict([('weights', tensor([1.8968])), ('bias', tensor([4.1287]))])"
      ]
     },
     "execution_count": 17,
     "metadata": {},
     "output_type": "execute_result"
    }
   ],
   "source": [
    "# after one epoch\n",
    "model_0.state_dict()"
   ]
  },
  {
   "cell_type": "code",
   "execution_count": 18,
   "metadata": {},
   "outputs": [
    {
     "data": {
      "image/png": "[encoded data removed]",
      "text/plain": [
       "<Figure size 1000x700 with 1 Axes>"
      ]
     },
     "metadata": {},
     "output_type": "display_data"
    }
   ],
   "source": [
    "with torch.inference_mode():\n",
    "    y_preds_new = model_0(x_test)\n",
    "plot_prediction(predictions=y_preds_new)"
   ]
  },
  {
   "cell_type": "code",
   "execution_count": 19,
   "metadata": {},
   "outputs": [
    {
     "data": {
      "text/plain": [
       "<matplotlib.legend.Legend at 0x7f43bfd01f00>"
      ]
     },
     "execution_count": 19,
     "metadata": {},
     "output_type": "execute_result"
    },
    {
     "data": {
      "image/png": "[encoded data removed]",
      "text/plain": [
       "<Figure size 640x480 with 1 Axes>"
      ]
     },
     "metadata": {},
     "output_type": "display_data"
    }
   ],
   "source": [
    "# plot the loss curve\n",
    "import numpy as np\n",
    "plt.plot(epoch_count,np.array(torch.tensor(loss_value).numpy()), label=\"Train loss\")\n",
    "plt.plot(epoch_count,test_loss_value,label=\"Test loss\")\n",
    "plt.title(\"Training and test loss values\")\n",
    "plt.xlabel(\"epoch\")\n",
    "plt.ylabel(\"loss\")\n",
    "plt.legend()"
   ]
  },
  {
   "attachments": {},
   "cell_type": "markdown",
   "metadata": {},
   "source": [
    "# Saving the model\n",
    "\n",
    "#### Main 3 methods to remember\n",
    "1. `torch.save()` - for saving in in pickle\n",
    "2. `torch.load()` - for loading\n",
    "3. `torch.nn.Module.load_state_dict()` - to load model's state dict"
   ]
  },
  {
   "cell_type": "code",
   "execution_count": 20,
   "metadata": {},
   "outputs": [
    {
     "data": {
      "text/plain": [
       "LinearRegressionModel()"
      ]
     },
     "execution_count": 20,
     "metadata": {},
     "output_type": "execute_result"
    }
   ],
   "source": [
    "model_0"
   ]
  },
  {
   "cell_type": "code",
   "execution_count": 21,
   "metadata": {},
   "outputs": [
    {
     "name": "stdout",
     "output_type": "stream",
     "text": [
      "Saving model to : models/model_0.pt\n"
     ]
    }
   ],
   "source": [
    "from pathlib import Path\n",
    "\n",
    "MODEL_PATH = Path('models')\n",
    "MODEL_PATH.mkdir(parents=True, exist_ok=True)\n",
    "\n",
    "MODEL_NAME = \"model_0.pt\"\n",
    "MODEL_SAVE_PATH = MODEL_PATH / MODEL_NAME\n",
    "\n",
    "print(f'Saving model to : {MODEL_SAVE_PATH}')\n",
    "\n",
    "torch.save(obj=model_0.state_dict(),f=MODEL_SAVE_PATH)"
   ]
  },
  {
   "attachments": {},
   "cell_type": "markdown",
   "metadata": {},
   "source": [
    "# Loading the model\n",
    "\n",
    "Since we saved our model's `state_dict()` we'll create an instance of our model and load the saved `state_dict` into taht"
   ]
  },
  {
   "cell_type": "code",
   "execution_count": 22,
   "metadata": {},
   "outputs": [
    {
     "data": {
      "text/plain": [
       "OrderedDict([('weights', tensor([1.8968])), ('bias', tensor([4.1287]))])"
      ]
     },
     "execution_count": 22,
     "metadata": {},
     "output_type": "execute_result"
    }
   ],
   "source": [
    "model_0.state_dict()"
   ]
  },
  {
   "cell_type": "code",
   "execution_count": 23,
   "metadata": {},
   "outputs": [],
   "source": [
    "loaded_model_0 = LinearRegressionModel()"
   ]
  },
  {
   "cell_type": "code",
   "execution_count": 24,
   "metadata": {},
   "outputs": [
    {
     "data": {
      "text/plain": [
       "OrderedDict([('weights', tensor([0.3367])), ('bias', tensor([0.1288]))])"
      ]
     },
     "execution_count": 24,
     "metadata": {},
     "output_type": "execute_result"
    }
   ],
   "source": [
    "loaded_model_0.state_dict()"
   ]
  },
  {
   "cell_type": "code",
   "execution_count": 25,
   "metadata": {},
   "outputs": [
    {
     "data": {
      "text/plain": [
       "<All keys matched successfully>"
      ]
     },
     "execution_count": 25,
     "metadata": {},
     "output_type": "execute_result"
    }
   ],
   "source": [
    "loaded_model_0.load_state_dict(torch.load(f=MODEL_SAVE_PATH))"
   ]
  },
  {
   "cell_type": "code",
   "execution_count": 26,
   "metadata": {},
   "outputs": [
    {
     "data": {
      "text/plain": [
       "OrderedDict([('weights', tensor([1.8968])), ('bias', tensor([4.1287]))])"
      ]
     },
     "execution_count": 26,
     "metadata": {},
     "output_type": "execute_result"
    }
   ],
   "source": [
    "loaded_model_0.state_dict()"
   ]
  },
  {
   "cell_type": "code",
   "execution_count": 27,
   "metadata": {},
   "outputs": [
    {
     "data": {
      "text/plain": [
       "tensor([[5.6461],\n",
       "        [5.6841],\n",
       "        [5.7220],\n",
       "        [5.7599],\n",
       "        [5.7979],\n",
       "        [5.8358],\n",
       "        [5.8737],\n",
       "        [5.9117],\n",
       "        [5.9496],\n",
       "        [5.9876]])"
      ]
     },
     "execution_count": 27,
     "metadata": {},
     "output_type": "execute_result"
    }
   ],
   "source": [
    "# Predicting with loaded model\n",
    "loaded_model_0.eval()\n",
    "with torch.inference_mode():\n",
    "    loaded_model_0_preds = loaded_model_0(x_test)\n",
    "\n",
    "loaded_model_0_preds"
   ]
  },
  {
   "cell_type": "code",
   "execution_count": 28,
   "metadata": {},
   "outputs": [
    {
     "data": {
      "text/plain": [
       "tensor([[True],\n",
       "        [True],\n",
       "        [True],\n",
       "        [True],\n",
       "        [True],\n",
       "        [True],\n",
       "        [True],\n",
       "        [True],\n",
       "        [True],\n",
       "        [True]])"
      ]
     },
     "execution_count": 28,
     "metadata": {},
     "output_type": "execute_result"
    }
   ],
   "source": [
    "# Comparing the loaded model and first model\n",
    "y_preds_new == loaded_model_0_preds"
   ]
  },
  {
   "attachments": {},
   "cell_type": "markdown",
   "metadata": {},
   "source": [
    "# Review"
   ]
  },
  {
   "cell_type": "code",
   "execution_count": 1,
   "metadata": {},
   "outputs": [
    {
     "name": "stderr",
     "output_type": "stream",
     "text": [
      "/home/mohammed/environments/pytorch/lib/python3.10/site-packages/tqdm/auto.py:22: TqdmWarning: IProgress not found. Please update jupyter and ipywidgets. See https://ipywidgets.readthedocs.io/en/stable/user_install.html\n",
      "  from .autonotebook import tqdm as notebook_tqdm\n"
     ]
    }
   ],
   "source": [
    "import torch\n",
    "from torch import nn\n",
    "import matplotlib.pyplot as plt"
   ]
  },
  {
   "cell_type": "code",
   "execution_count": 2,
   "metadata": {},
   "outputs": [
    {
     "data": {
      "text/plain": [
       "'1.13.0+cu117'"
      ]
     },
     "execution_count": 2,
     "metadata": {},
     "output_type": "execute_result"
    }
   ],
   "source": [
    "torch.__version__"
   ]
  },
  {
   "cell_type": "code",
   "execution_count": 3,
   "metadata": {},
   "outputs": [
    {
     "name": "stdout",
     "output_type": "stream",
     "text": [
      "device : cuda\n"
     ]
    }
   ],
   "source": [
    "device = 'cuda' if torch.cuda.is_available() else 'cpu'\n",
    "print(f'device : {device}')"
   ]
  },
  {
   "attachments": {},
   "cell_type": "markdown",
   "metadata": {},
   "source": [
    "## Data"
   ]
  },
  {
   "cell_type": "code",
   "execution_count": 4,
   "metadata": {},
   "outputs": [
    {
     "data": {
      "text/plain": [
       "(120, 120, 30, 30)"
      ]
     },
     "execution_count": 4,
     "metadata": {},
     "output_type": "execute_result"
    }
   ],
   "source": [
    "# creating data using lindear Regression formula y = weight * X + bias\n",
    "\n",
    "weight = 100\n",
    "bias = 50\n",
    "\n",
    "X = torch.arange(0,3,.02).unsqueeze(dim=1)\n",
    "Y = weight * X + bias\n",
    "Y\n",
    "train_split = int(0.8 * len(X))\n",
    "\n",
    "x_train, x_test = X[:train_split] , X[train_split:]\n",
    "y_train, y_test = Y[:train_split] , Y[train_split:]\n",
    "\n",
    "len(x_train), len(y_train) , len(x_test) , len(y_test)"
   ]
  },
  {
   "cell_type": "code",
   "execution_count": 5,
   "metadata": {},
   "outputs": [],
   "source": [
    "def plot_prediction(train_data=x_train,train_labels=y_train,test_data=x_test, test_labels=y_test, predictions=None):\n",
    "    plt.figure(figsize=(10,7))\n",
    "\n",
    "    plt.scatter(train_data, train_labels,c='r', s=4, label='Traing data')\n",
    "    plt.scatter(test_data, test_labels, c='b',s=4, label='Testing data')\n",
    "\n",
    "    if predictions is not None:\n",
    "        plt.scatter(test_data, predictions, c = 'g', s=4,label='Prediction' )\n",
    "\n",
    "    plt.legend()"
   ]
  },
  {
   "cell_type": "code",
   "execution_count": 6,
   "metadata": {},
   "outputs": [
    {
     "data": {
      "image/png": "[encoded data removed]",
      "text/plain": [
       "<Figure size 1000x700 with 1 Axes>"
      ]
     },
     "metadata": {},
     "output_type": "display_data"
    }
   ],
   "source": [
    "plot_prediction()"
   ]
  },
  {
   "attachments": {},
   "cell_type": "markdown",
   "metadata": {},
   "source": [
    "## Model"
   ]
  },
  {
   "cell_type": "code",
   "execution_count": 7,
   "metadata": {},
   "outputs": [],
   "source": [
    "class LinearRegressionModelV2(nn.Module):\n",
    "    def __init__(self):\n",
    "        super().__init__()\n",
    "\n",
    "        self.linear_layer = nn.Linear(in_features=1, out_features=1)\n",
    "    def forward(self, x:torch.Tensor):\n",
    "        return self.linear_layer(x)"
   ]
  },
  {
   "cell_type": "code",
   "execution_count": 8,
   "metadata": {},
   "outputs": [
    {
     "data": {
      "text/plain": [
       "[Parameter containing:\n",
       " tensor([[0.7645]], requires_grad=True),\n",
       " Parameter containing:\n",
       " tensor([0.8300], requires_grad=True)]"
      ]
     },
     "execution_count": 8,
     "metadata": {},
     "output_type": "execute_result"
    }
   ],
   "source": [
    "torch.manual_seed(42)\n",
    "\n",
    "model_1 = LinearRegressionModelV2()\n",
    "\n",
    "list(model_1.parameters())"
   ]
  },
  {
   "cell_type": "code",
   "execution_count": 9,
   "metadata": {},
   "outputs": [
    {
     "data": {
      "text/plain": [
       "OrderedDict([('linear_layer.weight', tensor([[0.7645]])),\n",
       "             ('linear_layer.bias', tensor([0.8300]))])"
      ]
     },
     "execution_count": 9,
     "metadata": {},
     "output_type": "execute_result"
    }
   ],
   "source": [
    "model_1.state_dict()"
   ]
  },
  {
   "cell_type": "code",
   "execution_count": 10,
   "metadata": {},
   "outputs": [
    {
     "data": {
      "text/plain": [
       "device(type='cpu')"
      ]
     },
     "execution_count": 10,
     "metadata": {},
     "output_type": "execute_result"
    }
   ],
   "source": [
    "# Checking the working device\n",
    "next(model_1.parameters()).device"
   ]
  },
  {
   "cell_type": "code",
   "execution_count": 11,
   "metadata": {},
   "outputs": [
    {
     "data": {
      "text/plain": [
       "device(type='cuda', index=0)"
      ]
     },
     "execution_count": 11,
     "metadata": {},
     "output_type": "execute_result"
    }
   ],
   "source": [
    "model_1.to(device=device)\n",
    "next(model_1.parameters()).device"
   ]
  },
  {
   "cell_type": "code",
   "execution_count": 12,
   "metadata": {},
   "outputs": [],
   "source": [
    "# Put data on the cuda (device agnostic code for data)\n",
    "\n",
    "x_train = x_train.to(device=device)\n",
    "y_train = y_train.to(device=device)\n",
    "x_test = x_test.to(device=device)\n",
    "y_test = y_test.to(device=device)\n"
   ]
  },
  {
   "cell_type": "code",
   "execution_count": 13,
   "metadata": {},
   "outputs": [
    {
     "data": {
      "text/plain": [
       "tensor([[2.6649],\n",
       "        [2.6802],\n",
       "        [2.6955],\n",
       "        [2.7108],\n",
       "        [2.7261],\n",
       "        [2.7414],\n",
       "        [2.7566],\n",
       "        [2.7719],\n",
       "        [2.7872],\n",
       "        [2.8025],\n",
       "        [2.8178],\n",
       "        [2.8331],\n",
       "        [2.8484],\n",
       "        [2.8637],\n",
       "        [2.8790],\n",
       "        [2.8943],\n",
       "        [2.9096],\n",
       "        [2.9248],\n",
       "        [2.9401],\n",
       "        [2.9554],\n",
       "        [2.9707],\n",
       "        [2.9860],\n",
       "        [3.0013],\n",
       "        [3.0166],\n",
       "        [3.0319],\n",
       "        [3.0472],\n",
       "        [3.0625],\n",
       "        [3.0778],\n",
       "        [3.0930],\n",
       "        [3.1083]], device='cuda:0')"
      ]
     },
     "execution_count": 13,
     "metadata": {},
     "output_type": "execute_result"
    }
   ],
   "source": [
    "with torch.inference_mode():\n",
    "    model_1_preds = model_1(x_test)\n",
    "model_1_preds"
   ]
  },
  {
   "cell_type": "code",
   "execution_count": 14,
   "metadata": {},
   "outputs": [
    {
     "data": {
      "image/png": "[encoded data removed]",
      "text/plain": [
       "<Figure size 1000x700 with 1 Axes>"
      ]
     },
     "metadata": {},
     "output_type": "display_data"
    }
   ],
   "source": [
    "plot_prediction(predictions=model_1_preds.cpu())"
   ]
  },
  {
   "attachments": {},
   "cell_type": "markdown",
   "metadata": {},
   "source": [
    "## Training"
   ]
  },
  {
   "cell_type": "code",
   "execution_count": 15,
   "metadata": {},
   "outputs": [],
   "source": [
    "loss_fn = nn.L1Loss()\n",
    "\n",
    "optimizer = torch.optim.SGD(model_1.parameters(),lr=1)"
   ]
  },
  {
   "cell_type": "code",
   "execution_count": 16,
   "metadata": {},
   "outputs": [
    {
     "data": {
      "text/plain": [
       "OrderedDict([('linear_layer.weight', tensor([[0.7645]], device='cuda:0')),\n",
       "             ('linear_layer.bias', tensor([0.8300], device='cuda:0'))])"
      ]
     },
     "execution_count": 16,
     "metadata": {},
     "output_type": "execute_result"
    }
   ],
   "source": [
    "model_1.state_dict()"
   ]
  },
  {
   "cell_type": "code",
   "execution_count": 17,
   "metadata": {},
   "outputs": [
    {
     "name": "stdout",
     "output_type": "stream",
     "text": [
      "epoch : 0 | loss : 167.26019287109375 | test loss : 311.91229248046875\n",
      "epoch : 1 | loss : 164.84410095214844 | test loss : 307.7112121582031\n",
      "epoch : 2 | loss : 162.42800903320312 | test loss : 303.5101013183594\n",
      "epoch : 3 | loss : 160.0118865966797 | test loss : 299.3089904785156\n",
      "epoch : 4 | loss : 157.59579467773438 | test loss : 295.1078796386719\n",
      "epoch : 5 | loss : 155.17970275878906 | test loss : 290.90679931640625\n",
      "epoch : 6 | loss : 152.7635955810547 | test loss : 286.7056884765625\n",
      "epoch : 7 | loss : 150.34750366210938 | test loss : 282.50457763671875\n",
      "epoch : 8 | loss : 147.93138122558594 | test loss : 278.303466796875\n",
      "epoch : 9 | loss : 145.5153045654297 | test loss : 274.1023864746094\n",
      "epoch : 10 | loss : 143.0991973876953 | test loss : 269.9012756347656\n",
      "epoch : 11 | loss : 140.68309020996094 | test loss : 265.7001647949219\n",
      "epoch : 12 | loss : 138.26699829101562 | test loss : 261.4991149902344\n",
      "epoch : 13 | loss : 135.8509063720703 | test loss : 257.2980041503906\n",
      "epoch : 14 | loss : 133.43478393554688 | test loss : 253.09689331054688\n",
      "epoch : 15 | loss : 131.01869201660156 | test loss : 248.89578247070312\n",
      "epoch : 16 | loss : 128.60260009765625 | test loss : 244.69468688964844\n",
      "epoch : 17 | loss : 126.1865005493164 | test loss : 240.4935760498047\n",
      "epoch : 18 | loss : 123.77039337158203 | test loss : 236.29246520996094\n",
      "epoch : 19 | loss : 121.35428619384766 | test loss : 232.0913848876953\n",
      "epoch : 20 | loss : 118.93818664550781 | test loss : 227.89027404785156\n",
      "epoch : 21 | loss : 116.52208709716797 | test loss : 223.68917846679688\n",
      "epoch : 22 | loss : 114.10598754882812 | test loss : 219.48806762695312\n",
      "epoch : 23 | loss : 111.68988037109375 | test loss : 215.28697204589844\n",
      "epoch : 24 | loss : 109.27378845214844 | test loss : 211.08584594726562\n",
      "epoch : 25 | loss : 106.8576889038086 | test loss : 206.88478088378906\n",
      "epoch : 26 | loss : 104.44158935546875 | test loss : 202.6836700439453\n",
      "epoch : 27 | loss : 102.02548217773438 | test loss : 198.48257446289062\n",
      "epoch : 28 | loss : 99.6093978881836 | test loss : 194.281494140625\n",
      "epoch : 29 | loss : 97.19329071044922 | test loss : 190.08038330078125\n",
      "epoch : 30 | loss : 94.77719116210938 | test loss : 185.8792724609375\n",
      "epoch : 31 | loss : 92.36109161376953 | test loss : 181.6781768798828\n",
      "epoch : 32 | loss : 89.94499206542969 | test loss : 177.4770965576172\n",
      "epoch : 33 | loss : 87.52889251708984 | test loss : 173.27598571777344\n",
      "epoch : 34 | loss : 85.11280059814453 | test loss : 169.07489013671875\n",
      "epoch : 35 | loss : 82.69670104980469 | test loss : 164.87380981445312\n",
      "epoch : 36 | loss : 80.28060150146484 | test loss : 160.67269897460938\n",
      "epoch : 37 | loss : 77.86450958251953 | test loss : 156.47161865234375\n",
      "epoch : 38 | loss : 75.44841003417969 | test loss : 152.27052307128906\n",
      "epoch : 39 | loss : 73.03230285644531 | test loss : 148.0694122314453\n",
      "epoch : 40 | loss : 70.61620330810547 | test loss : 143.86831665039062\n",
      "epoch : 41 | loss : 68.20011138916016 | test loss : 139.66722106933594\n",
      "epoch : 42 | loss : 65.78401184082031 | test loss : 135.4661407470703\n",
      "epoch : 43 | loss : 63.36791229248047 | test loss : 131.2650146484375\n",
      "epoch : 44 | loss : 60.95180892944336 | test loss : 127.06393432617188\n",
      "epoch : 45 | loss : 58.53571319580078 | test loss : 122.86283111572266\n",
      "epoch : 46 | loss : 56.1196174621582 | test loss : 118.6617431640625\n",
      "epoch : 47 | loss : 53.703514099121094 | test loss : 114.46063995361328\n",
      "epoch : 48 | loss : 51.287418365478516 | test loss : 110.25955200195312\n",
      "epoch : 49 | loss : 48.87131881713867 | test loss : 106.05845642089844\n",
      "epoch : 50 | loss : 46.469642639160156 | test loss : 101.8915786743164\n",
      "epoch : 51 | loss : 44.12413787841797 | test loss : 97.74317169189453\n",
      "epoch : 52 | loss : 41.81633377075195 | test loss : 93.6141128540039\n",
      "epoch : 53 | loss : 39.54804229736328 | test loss : 89.52645874023438\n",
      "epoch : 54 | loss : 37.340179443359375 | test loss : 85.46086120605469\n",
      "epoch : 55 | loss : 35.173519134521484 | test loss : 81.4420394897461\n",
      "epoch : 56 | loss : 33.0706901550293 | test loss : 77.44795227050781\n",
      "epoch : 57 | loss : 31.01370620727539 | test loss : 73.50603485107422\n",
      "epoch : 58 | loss : 29.022043228149414 | test loss : 69.61985778808594\n",
      "epoch : 59 | loss : 27.098764419555664 | test loss : 65.76290893554688\n",
      "epoch : 60 | loss : 25.22871208190918 | test loss : 61.967079162597656\n",
      "epoch : 61 | loss : 23.431264877319336 | test loss : 58.23596954345703\n",
      "epoch : 62 | loss : 21.710044860839844 | test loss : 54.608665466308594\n",
      "epoch : 63 | loss : 20.08477020263672 | test loss : 51.055049896240234\n",
      "epoch : 64 | loss : 18.538942337036133 | test loss : 47.57870101928711\n",
      "epoch : 65 | loss : 17.076335906982422 | test loss : 44.22499084472656\n",
      "epoch : 66 | loss : 15.716716766357422 | test loss : 40.957496643066406\n",
      "epoch : 67 | loss : 14.445279121398926 | test loss : 37.82609176635742\n",
      "epoch : 68 | loss : 13.280752182006836 | test loss : 34.838844299316406\n",
      "epoch : 69 | loss : 12.224085807800293 | test loss : 32.00380325317383\n",
      "epoch : 70 | loss : 11.275171279907227 | test loss : 29.329057693481445\n",
      "epoch : 71 | loss : 10.432740211486816 | test loss : 26.822673797607422\n",
      "epoch : 72 | loss : 9.694272994995117 | test loss : 24.492734909057617\n",
      "epoch : 73 | loss : 9.056693077087402 | test loss : 22.410566329956055\n",
      "epoch : 74 | loss : 8.527068138122559 | test loss : 20.523670196533203\n",
      "epoch : 75 | loss : 8.082085609436035 | test loss : 18.84009552001953\n",
      "epoch : 76 | loss : 7.712779521942139 | test loss : 17.367916107177734\n",
      "epoch : 77 | loss : 7.409212589263916 | test loss : 16.041175842285156\n",
      "epoch : 78 | loss : 7.152225017547607 | test loss : 14.939258575439453\n",
      "epoch : 79 | loss : 6.94080924987793 | test loss : 13.991747856140137\n",
      "epoch : 80 | loss : 6.758068084716797 | test loss : 13.202205657958984\n",
      "epoch : 81 | loss : 6.596817493438721 | test loss : 12.49299144744873\n",
      "epoch : 82 | loss : 6.448023796081543 | test loss : 11.947120666503906\n",
      "epoch : 83 | loss : 6.310550689697266 | test loss : 11.484272003173828\n",
      "epoch : 84 | loss : 6.177855968475342 | test loss : 11.10534954071045\n",
      "epoch : 85 | loss : 6.0491437911987305 | test loss : 10.726420402526855\n",
      "epoch : 86 | loss : 5.920517444610596 | test loss : 10.432296752929688\n",
      "epoch : 87 | loss : 5.794157028198242 | test loss : 10.138172149658203\n",
      "epoch : 88 | loss : 5.667797088623047 | test loss : 9.84404468536377\n",
      "epoch : 89 | loss : 5.541437149047852 | test loss : 9.549921035766602\n",
      "epoch : 90 | loss : 5.41525411605835 | test loss : 9.341501235961914\n",
      "epoch : 91 | loss : 5.2895331382751465 | test loss : 9.133084297180176\n",
      "epoch : 92 | loss : 5.163933277130127 | test loss : 8.83896541595459\n",
      "epoch : 93 | loss : 5.0382399559021 | test loss : 8.63054370880127\n",
      "epoch : 94 | loss : 4.9125189781188965 | test loss : 8.422121047973633\n",
      "epoch : 95 | loss : 4.7867960929870605 | test loss : 8.213703155517578\n",
      "epoch : 96 | loss : 4.661075115203857 | test loss : 8.005282402038574\n",
      "epoch : 97 | loss : 4.535353660583496 | test loss : 7.796864032745361\n",
      "epoch : 98 | loss : 4.409710884094238 | test loss : 7.502738952636719\n",
      "epoch : 99 | loss : 4.284060478210449 | test loss : 7.2943220138549805\n",
      "epoch : 100 | loss : 4.158339977264404 | test loss : 7.08590030670166\n",
      "epoch : 101 | loss : 4.032618045806885 | test loss : 6.8774824142456055\n",
      "epoch : 102 | loss : 3.9068968296051025 | test loss : 6.669062614440918\n",
      "epoch : 103 | loss : 3.781174659729004 | test loss : 6.460647106170654\n",
      "epoch : 104 | loss : 3.655489206314087 | test loss : 6.166518688201904\n",
      "epoch : 105 | loss : 3.5298824310302734 | test loss : 5.958099842071533\n",
      "epoch : 106 | loss : 3.404160499572754 | test loss : 5.749682903289795\n",
      "epoch : 107 | loss : 3.278439521789551 | test loss : 5.54126501083374\n",
      "epoch : 108 | loss : 3.1527180671691895 | test loss : 5.332846164703369\n",
      "epoch : 109 | loss : 3.026996612548828 | test loss : 5.124425411224365\n",
      "epoch : 110 | loss : 2.9012749195098877 | test loss : 4.916006565093994\n",
      "epoch : 111 | loss : 2.7756948471069336 | test loss : 4.621883392333984\n",
      "epoch : 112 | loss : 2.6499814987182617 | test loss : 4.413464546203613\n",
      "epoch : 113 | loss : 2.5242600440979004 | test loss : 4.205045700073242\n",
      "epoch : 114 | loss : 2.3985390663146973 | test loss : 3.996628999710083\n",
      "epoch : 115 | loss : 2.272817611694336 | test loss : 3.7882072925567627\n",
      "epoch : 116 | loss : 2.1470963954925537 | test loss : 3.5797884464263916\n",
      "epoch : 117 | loss : 2.0214736461639404 | test loss : 3.2856650352478027\n",
      "epoch : 118 | loss : 1.8958032131195068 | test loss : 3.0772452354431152\n",
      "epoch : 119 | loss : 1.7700812816619873 | test loss : 2.8688244819641113\n",
      "epoch : 120 | loss : 1.6443605422973633 | test loss : 2.660407543182373\n",
      "epoch : 121 | loss : 1.5186384916305542 | test loss : 2.451988935470581\n",
      "epoch : 122 | loss : 1.392917275428772 | test loss : 2.2435710430145264\n",
      "epoch : 123 | loss : 1.267250895500183 | test loss : 1.9494446516036987\n",
      "epoch : 124 | loss : 1.141778826713562 | test loss : 1.8276368379592896\n",
      "epoch : 125 | loss : 1.0161787271499634 | test loss : 1.533509373664856\n",
      "epoch : 126 | loss : 0.8902446031570435 | test loss : 1.3250916004180908\n",
      "epoch : 127 | loss : 0.7645235061645508 | test loss : 1.1166718006134033\n",
      "epoch : 128 | loss : 0.638801634311676 | test loss : 0.9082550406455994\n",
      "epoch : 129 | loss : 0.5131018161773682 | test loss : 0.6141296625137329\n"
     ]
    }
   ],
   "source": [
    "torch.manual_seed(42)\n",
    "\n",
    "epoch_count = []\n",
    "loss_values =[]\n",
    "test_loss_values = []\n",
    "\n",
    "epochs = 130\n",
    "\n",
    "\n",
    "for epoch in range(epochs):\n",
    "    model_1.train()\n",
    "\n",
    "    yPreds = model_1(x_train)\n",
    "\n",
    "    loss = loss_fn(yPreds, y_train)\n",
    "\n",
    "    optimizer.zero_grad()\n",
    "\n",
    "    loss.backward()\n",
    "\n",
    "    optimizer.step()\n",
    "\n",
    "    model_1.eval()\n",
    "\n",
    "    with torch.inference_mode():\n",
    "        test_preds = model_1(x_test)\n",
    "\n",
    "        test_loss = loss_fn(test_preds, y_test)\n",
    "\n",
    "    \n",
    "    epoch_count.append(epoch)\n",
    "    loss_values.append(loss)\n",
    "    test_loss_values.append(test_loss)\n",
    "    print(f'epoch : {epoch} | loss : {loss} | test loss : {test_loss}')\n"
   ]
  },
  {
   "cell_type": "code",
   "execution_count": 18,
   "metadata": {},
   "outputs": [
    {
     "data": {
      "text/plain": [
       "OrderedDict([('linear_layer.weight', tensor([[99.4260]], device='cuda:0')),\n",
       "             ('linear_layer.bias', tensor([50.9300], device='cuda:0'))])"
      ]
     },
     "execution_count": 18,
     "metadata": {},
     "output_type": "execute_result"
    }
   ],
   "source": [
    "model_1.state_dict()"
   ]
  },
  {
   "cell_type": "code",
   "execution_count": 19,
   "metadata": {},
   "outputs": [
    {
     "data": {
      "image/png": "[encoded data removed]",
      "text/plain": [
       "<Figure size 1000x700 with 1 Axes>"
      ]
     },
     "metadata": {},
     "output_type": "display_data"
    }
   ],
   "source": [
    "with torch.inference_mode():\n",
    "    model_1_preds = model_1(x_test)\n",
    "plot_prediction(predictions=model_1_preds.cpu())"
   ]
  },
  {
   "cell_type": "code",
   "execution_count": 20,
   "metadata": {},
   "outputs": [
    {
     "data": {
      "text/plain": [
       "OrderedDict([('linear_layer.weight', tensor([[99.4260]], device='cuda:0')),\n",
       "             ('linear_layer.bias', tensor([50.9300], device='cuda:0'))])"
      ]
     },
     "execution_count": 20,
     "metadata": {},
     "output_type": "execute_result"
    }
   ],
   "source": [
    "model_1.state_dict()"
   ]
  },
  {
   "cell_type": "code",
   "execution_count": 21,
   "metadata": {},
   "outputs": [
    {
     "data": {
      "text/plain": [
       "[tensor(311.9123, device='cuda:0'),\n",
       " tensor(307.7112, device='cuda:0'),\n",
       " tensor(303.5101, device='cuda:0'),\n",
       " tensor(299.3090, device='cuda:0'),\n",
       " tensor(295.1079, device='cuda:0'),\n",
       " tensor(290.9068, device='cuda:0'),\n",
       " tensor(286.7057, device='cuda:0'),\n",
       " tensor(282.5046, device='cuda:0'),\n",
       " tensor(278.3035, device='cuda:0'),\n",
       " tensor(274.1024, device='cuda:0'),\n",
       " tensor(269.9013, device='cuda:0'),\n",
       " tensor(265.7002, device='cuda:0'),\n",
       " tensor(261.4991, device='cuda:0'),\n",
       " tensor(257.2980, device='cuda:0'),\n",
       " tensor(253.0969, device='cuda:0'),\n",
       " tensor(248.8958, device='cuda:0'),\n",
       " tensor(244.6947, device='cuda:0'),\n",
       " tensor(240.4936, device='cuda:0'),\n",
       " tensor(236.2925, device='cuda:0'),\n",
       " tensor(232.0914, device='cuda:0'),\n",
       " tensor(227.8903, device='cuda:0'),\n",
       " tensor(223.6892, device='cuda:0'),\n",
       " tensor(219.4881, device='cuda:0'),\n",
       " tensor(215.2870, device='cuda:0'),\n",
       " tensor(211.0858, device='cuda:0'),\n",
       " tensor(206.8848, device='cuda:0'),\n",
       " tensor(202.6837, device='cuda:0'),\n",
       " tensor(198.4826, device='cuda:0'),\n",
       " tensor(194.2815, device='cuda:0'),\n",
       " tensor(190.0804, device='cuda:0'),\n",
       " tensor(185.8793, device='cuda:0'),\n",
       " tensor(181.6782, device='cuda:0'),\n",
       " tensor(177.4771, device='cuda:0'),\n",
       " tensor(173.2760, device='cuda:0'),\n",
       " tensor(169.0749, device='cuda:0'),\n",
       " tensor(164.8738, device='cuda:0'),\n",
       " tensor(160.6727, device='cuda:0'),\n",
       " tensor(156.4716, device='cuda:0'),\n",
       " tensor(152.2705, device='cuda:0'),\n",
       " tensor(148.0694, device='cuda:0'),\n",
       " tensor(143.8683, device='cuda:0'),\n",
       " tensor(139.6672, device='cuda:0'),\n",
       " tensor(135.4661, device='cuda:0'),\n",
       " tensor(131.2650, device='cuda:0'),\n",
       " tensor(127.0639, device='cuda:0'),\n",
       " tensor(122.8628, device='cuda:0'),\n",
       " tensor(118.6617, device='cuda:0'),\n",
       " tensor(114.4606, device='cuda:0'),\n",
       " tensor(110.2596, device='cuda:0'),\n",
       " tensor(106.0585, device='cuda:0'),\n",
       " tensor(101.8916, device='cuda:0'),\n",
       " tensor(97.7432, device='cuda:0'),\n",
       " tensor(93.6141, device='cuda:0'),\n",
       " tensor(89.5265, device='cuda:0'),\n",
       " tensor(85.4609, device='cuda:0'),\n",
       " tensor(81.4420, device='cuda:0'),\n",
       " tensor(77.4480, device='cuda:0'),\n",
       " tensor(73.5060, device='cuda:0'),\n",
       " tensor(69.6199, device='cuda:0'),\n",
       " tensor(65.7629, device='cuda:0'),\n",
       " tensor(61.9671, device='cuda:0'),\n",
       " tensor(58.2360, device='cuda:0'),\n",
       " tensor(54.6087, device='cuda:0'),\n",
       " tensor(51.0550, device='cuda:0'),\n",
       " tensor(47.5787, device='cuda:0'),\n",
       " tensor(44.2250, device='cuda:0'),\n",
       " tensor(40.9575, device='cuda:0'),\n",
       " tensor(37.8261, device='cuda:0'),\n",
       " tensor(34.8388, device='cuda:0'),\n",
       " tensor(32.0038, device='cuda:0'),\n",
       " tensor(29.3291, device='cuda:0'),\n",
       " tensor(26.8227, device='cuda:0'),\n",
       " tensor(24.4927, device='cuda:0'),\n",
       " tensor(22.4106, device='cuda:0'),\n",
       " tensor(20.5237, device='cuda:0'),\n",
       " tensor(18.8401, device='cuda:0'),\n",
       " tensor(17.3679, device='cuda:0'),\n",
       " tensor(16.0412, device='cuda:0'),\n",
       " tensor(14.9393, device='cuda:0'),\n",
       " tensor(13.9917, device='cuda:0'),\n",
       " tensor(13.2022, device='cuda:0'),\n",
       " tensor(12.4930, device='cuda:0'),\n",
       " tensor(11.9471, device='cuda:0'),\n",
       " tensor(11.4843, device='cuda:0'),\n",
       " tensor(11.1053, device='cuda:0'),\n",
       " tensor(10.7264, device='cuda:0'),\n",
       " tensor(10.4323, device='cuda:0'),\n",
       " tensor(10.1382, device='cuda:0'),\n",
       " tensor(9.8440, device='cuda:0'),\n",
       " tensor(9.5499, device='cuda:0'),\n",
       " tensor(9.3415, device='cuda:0'),\n",
       " tensor(9.1331, device='cuda:0'),\n",
       " tensor(8.8390, device='cuda:0'),\n",
       " tensor(8.6305, device='cuda:0'),\n",
       " tensor(8.4221, device='cuda:0'),\n",
       " tensor(8.2137, device='cuda:0'),\n",
       " tensor(8.0053, device='cuda:0'),\n",
       " tensor(7.7969, device='cuda:0'),\n",
       " tensor(7.5027, device='cuda:0'),\n",
       " tensor(7.2943, device='cuda:0'),\n",
       " tensor(7.0859, device='cuda:0'),\n",
       " tensor(6.8775, device='cuda:0'),\n",
       " tensor(6.6691, device='cuda:0'),\n",
       " tensor(6.4606, device='cuda:0'),\n",
       " tensor(6.1665, device='cuda:0'),\n",
       " tensor(5.9581, device='cuda:0'),\n",
       " tensor(5.7497, device='cuda:0'),\n",
       " tensor(5.5413, device='cuda:0'),\n",
       " tensor(5.3328, device='cuda:0'),\n",
       " tensor(5.1244, device='cuda:0'),\n",
       " tensor(4.9160, device='cuda:0'),\n",
       " tensor(4.6219, device='cuda:0'),\n",
       " tensor(4.4135, device='cuda:0'),\n",
       " tensor(4.2050, device='cuda:0'),\n",
       " tensor(3.9966, device='cuda:0'),\n",
       " tensor(3.7882, device='cuda:0'),\n",
       " tensor(3.5798, device='cuda:0'),\n",
       " tensor(3.2857, device='cuda:0'),\n",
       " tensor(3.0772, device='cuda:0'),\n",
       " tensor(2.8688, device='cuda:0'),\n",
       " tensor(2.6604, device='cuda:0'),\n",
       " tensor(2.4520, device='cuda:0'),\n",
       " tensor(2.2436, device='cuda:0'),\n",
       " tensor(1.9494, device='cuda:0'),\n",
       " tensor(1.8276, device='cuda:0'),\n",
       " tensor(1.5335, device='cuda:0'),\n",
       " tensor(1.3251, device='cuda:0'),\n",
       " tensor(1.1167, device='cuda:0'),\n",
       " tensor(0.9083, device='cuda:0'),\n",
       " tensor(0.6141, device='cuda:0')]"
      ]
     },
     "execution_count": 21,
     "metadata": {},
     "output_type": "execute_result"
    }
   ],
   "source": [
    "test_loss_values"
   ]
  },
  {
   "cell_type": "code",
   "execution_count": 22,
   "metadata": {},
   "outputs": [
    {
     "data": {
      "text/plain": [
       "<matplotlib.legend.Legend at 0x7fa2cc09f7f0>"
      ]
     },
     "execution_count": 22,
     "metadata": {},
     "output_type": "execute_result"
    },
    {
     "data": {
      "image/png": "[encoded data removed]",
      "text/plain": [
       "<Figure size 640x480 with 1 Axes>"
      ]
     },
     "metadata": {},
     "output_type": "display_data"
    }
   ],
   "source": [
    "import numpy as np\n",
    "\n",
    "plt.plot(epoch_count, np.array(torch.tensor(loss_values).numpy()), label='train loss')\n",
    "plt.plot(epoch_count, np.array(torch.tensor(test_loss_values).numpy()), label=\"Test loss\")\n",
    "plt.xlabel('epoch')\n",
    "plt.ylabel('loss')\n",
    "plt.legend()"
   ]
  },
  {
   "cell_type": "code",
   "execution_count": 23,
   "metadata": {},
   "outputs": [
    {
     "data": {
      "text/plain": [
       "OrderedDict([('linear_layer.weight', tensor([[99.4260]], device='cuda:0')),\n",
       "             ('linear_layer.bias', tensor([50.9300], device='cuda:0'))])"
      ]
     },
     "execution_count": 23,
     "metadata": {},
     "output_type": "execute_result"
    }
   ],
   "source": [
    "model_1.state_dict()"
   ]
  },
  {
   "cell_type": "code",
   "execution_count": null,
   "metadata": {},
   "outputs": [],
   "source": []
  }
 ],
 "metadata": {
  "kernelspec": {
   "display_name": "pytorch",
   "language": "python",
   "name": "python3"
  },
  "language_info": {
   "codemirror_mode": {
    "name": "ipython",
    "version": 3
   },
   "file_extension": ".py",
   "mimetype": "text/x-python",
   "name": "python",
   "nbconvert_exporter": "python",
   "pygments_lexer": "ipython3",
   "version": "3.10.10"
  },
  "orig_nbformat": 4
 },
 "nbformat": 4,
 "nbformat_minor": 2
}
